{
  "nbformat": 4,
  "nbformat_minor": 0,
  "metadata": {
    "colab": {
      "provenance": [],
      "collapsed_sections": [
        "OTWDMEOfNJVJ",
        "rTetpzJegi4m",
        "CuDc84H7NO4D",
        "cVwAlMVhQ0z5",
        "9AXzJZrMTOd9",
        "TywgQ8Ncdlpu",
        "k7wNPKZchmH8",
        "MInDzkGqmXzl",
        "I81PdlPvmdyC",
        "8jUAbthsuYDZ",
        "Zm62MtdcVx4j",
        "DflxLhkbuhtz",
        "fP2GHbloaJS7",
        "Pn3zVxz7HBii"
      ],
      "authorship_tag": "ABX9TyNJvu7waChh45XmWHDOaXEj",
      "include_colab_link": true
    },
    "kernelspec": {
      "name": "python3",
      "display_name": "Python 3"
    },
    "language_info": {
      "name": "python"
    },
    "accelerator": "GPU",
    "gpuClass": "standard"
  },
  "cells": [
    {
      "cell_type": "markdown",
      "metadata": {
        "id": "view-in-github",
        "colab_type": "text"
      },
      "source": [
        "<a href=\"https://colab.research.google.com/github/therealmolf/genre-classification/blob/main/EDA_on_FMA_Dataset.ipynb\" target=\"_parent\"><img src=\"https://colab.research.google.com/assets/colab-badge.svg\" alt=\"Open In Colab\"/></a>"
      ]
    },
    {
      "cell_type": "code",
      "execution_count": null,
      "metadata": {
        "colab": {
          "base_uri": "https://localhost:8080/"
        },
        "id": "BVcvYFQiWKa6",
        "outputId": "30457528-7d28-49f6-d79e-bb2bfeb45d9f"
      },
      "outputs": [
        {
          "output_type": "stream",
          "name": "stdout",
          "text": [
            "Python 3.7.13\n"
          ]
        }
      ],
      "source": [
        "!python --version"
      ]
    },
    {
      "cell_type": "markdown",
      "source": [
        "## Install Additional Libraries"
      ],
      "metadata": {
        "id": "OTWDMEOfNJVJ"
      }
    },
    {
      "cell_type": "code",
      "source": [
        "!pip install --upgrade pip"
      ],
      "metadata": {
        "colab": {
          "base_uri": "https://localhost:8080/"
        },
        "id": "60iUUBBPYvsh",
        "outputId": "9a8d7e25-9528-4602-9a21-b14b5f9e2fd0"
      },
      "execution_count": null,
      "outputs": [
        {
          "output_type": "stream",
          "name": "stdout",
          "text": [
            "Looking in indexes: https://pypi.org/simple, https://us-python.pkg.dev/colab-wheels/public/simple/\n",
            "Requirement already satisfied: pip in /usr/local/lib/python3.7/dist-packages (21.1.3)\n",
            "Collecting pip\n",
            "  Downloading pip-22.2.2-py3-none-any.whl (2.0 MB)\n",
            "\u001b[K     |████████████████████████████████| 2.0 MB 29.5 MB/s \n",
            "\u001b[?25hInstalling collected packages: pip\n",
            "  Attempting uninstall: pip\n",
            "    Found existing installation: pip 21.1.3\n",
            "    Uninstalling pip-21.1.3:\n",
            "      Successfully uninstalled pip-21.1.3\n",
            "Successfully installed pip-22.2.2\n"
          ]
        }
      ]
    },
    {
      "cell_type": "code",
      "source": [
        "!pip -q install --upgrade google-cloud-aiplatform"
      ],
      "metadata": {
        "colab": {
          "base_uri": "https://localhost:8080/"
        },
        "id": "C2UQkbcoYauI",
        "outputId": "32465a70-0c6a-41a3-f953-95bb0f9d3fbe"
      },
      "execution_count": null,
      "outputs": [
        {
          "output_type": "stream",
          "name": "stdout",
          "text": [
            "\u001b[2K     \u001b[90m━━━━━━━━━━━━━━━━━━━━━━━━━━━━━━━━━━━━━━━━\u001b[0m \u001b[32m2.2/2.2 MB\u001b[0m \u001b[31m68.6 MB/s\u001b[0m eta \u001b[36m0:00:00\u001b[0m\n",
            "\u001b[2K     \u001b[90m━━━━━━━━━━━━━━━━━━━━━━━━━━━━━━━━━━━━━━\u001b[0m \u001b[32m114.6/114.6 kB\u001b[0m \u001b[31m16.1 MB/s\u001b[0m eta \u001b[36m0:00:00\u001b[0m\n",
            "\u001b[2K     \u001b[90m━━━━━━━━━━━━━━━━━━━━━━━━━━━━━━━━━━━━━━\u001b[0m \u001b[32m231.2/231.2 kB\u001b[0m \u001b[31m24.6 MB/s\u001b[0m eta \u001b[36m0:00:00\u001b[0m\n",
            "\u001b[2K     \u001b[90m━━━━━━━━━━━━━━━━━━━━━━━━━━━━━━━━━━━━━━━━\u001b[0m \u001b[32m1.0/1.0 MB\u001b[0m \u001b[31m48.1 MB/s\u001b[0m eta \u001b[36m0:00:00\u001b[0m\n",
            "\u001b[2K     \u001b[90m━━━━━━━━━━━━━━━━━━━━━━━━━━━━━━━━━━━━━━\u001b[0m \u001b[32m107.0/107.0 kB\u001b[0m \u001b[31m15.1 MB/s\u001b[0m eta \u001b[36m0:00:00\u001b[0m\n",
            "\u001b[2K     \u001b[90m━━━━━━━━━━━━━━━━━━━━━━━━━━━━━━━━━━━━━━━━\u001b[0m \u001b[32m47.7/47.7 kB\u001b[0m \u001b[31m3.9 MB/s\u001b[0m eta \u001b[36m0:00:00\u001b[0m\n",
            "\u001b[2K     \u001b[90m━━━━━━━━━━━━━━━━━━━━━━━━━━━━━━━━━━━━━━\u001b[0m \u001b[32m107.0/107.0 kB\u001b[0m \u001b[31m10.3 MB/s\u001b[0m eta \u001b[36m0:00:00\u001b[0m\n",
            "\u001b[2K     \u001b[90m━━━━━━━━━━━━━━━━━━━━━━━━━━━━━━━━━━━━━━\u001b[0m \u001b[32m107.1/107.1 kB\u001b[0m \u001b[31m13.5 MB/s\u001b[0m eta \u001b[36m0:00:00\u001b[0m\n",
            "\u001b[2K     \u001b[90m━━━━━━━━━━━━━━━━━━━━━━━━━━━━━━━━━━━━━━\u001b[0m \u001b[32m107.1/107.1 kB\u001b[0m \u001b[31m12.4 MB/s\u001b[0m eta \u001b[36m0:00:00\u001b[0m\n",
            "\u001b[2K     \u001b[90m━━━━━━━━━━━━━━━━━━━━━━━━━━━━━━━━━━━━━━\u001b[0m \u001b[32m107.4/107.4 kB\u001b[0m \u001b[31m11.7 MB/s\u001b[0m eta \u001b[36m0:00:00\u001b[0m\n",
            "\u001b[2K     \u001b[90m━━━━━━━━━━━━━━━━━━━━━━━━━━━━━━━━━━━━━━\u001b[0m \u001b[32m106.6/106.6 kB\u001b[0m \u001b[31m12.6 MB/s\u001b[0m eta \u001b[36m0:00:00\u001b[0m\n",
            "\u001b[2K     \u001b[90m━━━━━━━━━━━━━━━━━━━━━━━━━━━━━━━━━━━━━━━\u001b[0m \u001b[32m106.3/106.3 kB\u001b[0m \u001b[31m6.9 MB/s\u001b[0m eta \u001b[36m0:00:00\u001b[0m\n",
            "\u001b[2K     \u001b[90m━━━━━━━━━━━━━━━━━━━━━━━━━━━━━━━━━━━━━━\u001b[0m \u001b[32m106.8/106.8 kB\u001b[0m \u001b[31m13.0 MB/s\u001b[0m eta \u001b[36m0:00:00\u001b[0m\n",
            "\u001b[2K     \u001b[90m━━━━━━━━━━━━━━━━━━━━━━━━━━━━━━━━━━━━━━\u001b[0m \u001b[32m106.6/106.6 kB\u001b[0m \u001b[31m12.6 MB/s\u001b[0m eta \u001b[36m0:00:00\u001b[0m\n",
            "\u001b[2K     \u001b[90m━━━━━━━━━━━━━━━━━━━━━━━━━━━━━━━━━━━━━━\u001b[0m \u001b[32m106.0/106.0 kB\u001b[0m \u001b[31m13.5 MB/s\u001b[0m eta \u001b[36m0:00:00\u001b[0m\n",
            "\u001b[2K     \u001b[90m━━━━━━━━━━━━━━━━━━━━━━━━━━━━━━━━━━━━━━━\u001b[0m \u001b[32m105.9/105.9 kB\u001b[0m \u001b[31m6.2 MB/s\u001b[0m eta \u001b[36m0:00:00\u001b[0m\n",
            "\u001b[2K     \u001b[90m━━━━━━━━━━━━━━━━━━━━━━━━━━━━━━━━━━━━━━━\u001b[0m \u001b[32m105.2/105.2 kB\u001b[0m \u001b[31m6.0 MB/s\u001b[0m eta \u001b[36m0:00:00\u001b[0m\n",
            "\u001b[2K     \u001b[90m━━━━━━━━━━━━━━━━━━━━━━━━━━━━━━━━━━━━━━\u001b[0m \u001b[32m105.2/105.2 kB\u001b[0m \u001b[31m10.9 MB/s\u001b[0m eta \u001b[36m0:00:00\u001b[0m\n",
            "\u001b[2K     \u001b[90m━━━━━━━━━━━━━━━━━━━━━━━━━━━━━━━━━━━━━━━\u001b[0m \u001b[32m105.0/105.0 kB\u001b[0m \u001b[31m6.1 MB/s\u001b[0m eta \u001b[36m0:00:00\u001b[0m\n",
            "\u001b[2K     \u001b[90m━━━━━━━━━━━━━━━━━━━━━━━━━━━━━━━━━━━━━━\u001b[0m \u001b[32m105.0/105.0 kB\u001b[0m \u001b[31m11.6 MB/s\u001b[0m eta \u001b[36m0:00:00\u001b[0m\n",
            "\u001b[2K     \u001b[90m━━━━━━━━━━━━━━━━━━━━━━━━━━━━━━━━━━━━━━\u001b[0m \u001b[32m104.2/104.2 kB\u001b[0m \u001b[31m12.2 MB/s\u001b[0m eta \u001b[36m0:00:00\u001b[0m\n",
            "\u001b[2K     \u001b[90m━━━━━━━━━━━━━━━━━━━━━━━━━━━━━━━━━━━━━━\u001b[0m \u001b[32m103.8/103.8 kB\u001b[0m \u001b[31m11.9 MB/s\u001b[0m eta \u001b[36m0:00:00\u001b[0m\n",
            "\u001b[2K     \u001b[90m━━━━━━━━━━━━━━━━━━━━━━━━━━━━━━━━━━━━━━\u001b[0m \u001b[32m104.0/104.0 kB\u001b[0m \u001b[31m11.4 MB/s\u001b[0m eta \u001b[36m0:00:00\u001b[0m\n",
            "\u001b[2K     \u001b[90m━━━━━━━━━━━━━━━━━━━━━━━━━━━━━━━━━━━━━━\u001b[0m \u001b[32m103.7/103.7 kB\u001b[0m \u001b[31m12.0 MB/s\u001b[0m eta \u001b[36m0:00:00\u001b[0m\n",
            "\u001b[2K     \u001b[90m━━━━━━━━━━━━━━━━━━━━━━━━━━━━━━━━━━━━━━━\u001b[0m \u001b[32m103.4/103.4 kB\u001b[0m \u001b[31m6.9 MB/s\u001b[0m eta \u001b[36m0:00:00\u001b[0m\n",
            "\u001b[2K     \u001b[90m━━━━━━━━━━━━━━━━━━━━━━━━━━━━━━━━━━━━━━━━\u001b[0m \u001b[32m97.3/97.3 kB\u001b[0m \u001b[31m11.2 MB/s\u001b[0m eta \u001b[36m0:00:00\u001b[0m\n",
            "\u001b[2K     \u001b[90m━━━━━━━━━━━━━━━━━━━━━━━━━━━━━━━━━━━━━━━━\u001b[0m \u001b[32m97.2/97.2 kB\u001b[0m \u001b[31m10.6 MB/s\u001b[0m eta \u001b[36m0:00:00\u001b[0m\n",
            "\u001b[2K     \u001b[90m━━━━━━━━━━━━━━━━━━━━━━━━━━━━━━━━━━━━━━━━\u001b[0m \u001b[32m97.1/97.1 kB\u001b[0m \u001b[31m5.9 MB/s\u001b[0m eta \u001b[36m0:00:00\u001b[0m\n",
            "\u001b[2K     \u001b[90m━━━━━━━━━━━━━━━━━━━━━━━━━━━━━━━━━━━━━━━━\u001b[0m \u001b[32m96.4/96.4 kB\u001b[0m \u001b[31m10.9 MB/s\u001b[0m eta \u001b[36m0:00:00\u001b[0m\n",
            "\u001b[2K     \u001b[90m━━━━━━━━━━━━━━━━━━━━━━━━━━━━━━━━━━━━━━━━\u001b[0m \u001b[32m96.3/96.3 kB\u001b[0m \u001b[31m11.0 MB/s\u001b[0m eta \u001b[36m0:00:00\u001b[0m\n",
            "\u001b[2K     \u001b[90m━━━━━━━━━━━━━━━━━━━━━━━━━━━━━━━━━━━━━━━━\u001b[0m \u001b[32m96.3/96.3 kB\u001b[0m \u001b[31m11.8 MB/s\u001b[0m eta \u001b[36m0:00:00\u001b[0m\n",
            "\u001b[2K     \u001b[90m━━━━━━━━━━━━━━━━━━━━━━━━━━━━━━━━━━━━━━━━\u001b[0m \u001b[32m92.1/92.1 kB\u001b[0m \u001b[31m4.3 MB/s\u001b[0m eta \u001b[36m0:00:00\u001b[0m\n",
            "\u001b[2K     \u001b[90m━━━━━━━━━━━━━━━━━━━━━━━━━━━━━━━━━━━━━━━━\u001b[0m \u001b[32m92.1/92.1 kB\u001b[0m \u001b[31m10.6 MB/s\u001b[0m eta \u001b[36m0:00:00\u001b[0m\n",
            "\u001b[2K     \u001b[90m━━━━━━━━━━━━━━━━━━━━━━━━━━━━━━━━━━━━━━\u001b[0m \u001b[32m230.2/230.2 kB\u001b[0m \u001b[31m20.1 MB/s\u001b[0m eta \u001b[36m0:00:00\u001b[0m\n",
            "\u001b[2K     \u001b[90m━━━━━━━━━━━━━━━━━━━━━━━━━━━━━━━━━━━━━━\u001b[0m \u001b[32m206.6/206.6 kB\u001b[0m \u001b[31m13.1 MB/s\u001b[0m eta \u001b[36m0:00:00\u001b[0m\n",
            "\u001b[2K     \u001b[90m━━━━━━━━━━━━━━━━━━━━━━━━━━━━━━━━━━━━━━━━\u001b[0m \u001b[32m76.9/76.9 kB\u001b[0m \u001b[31m8.7 MB/s\u001b[0m eta \u001b[36m0:00:00\u001b[0m\n",
            "\u001b[?25h\u001b[31mERROR: pip's dependency resolver does not currently take into account all the packages that are installed. This behaviour is the source of the following dependency conflicts.\n",
            "tensorflow 2.8.2+zzzcolab20220719082949 requires protobuf<3.20,>=3.9.2, but you have protobuf 3.20.1 which is incompatible.\n",
            "pandas-gbq 0.13.3 requires google-cloud-bigquery[bqstorage,pandas]<2.0.0dev,>=1.11.1, but you have google-cloud-bigquery 2.34.4 which is incompatible.\n",
            "google-cloud-translate 1.5.0 requires google-api-core[grpc]<2.0.0dev,>=1.6.0, but you have google-api-core 2.8.2 which is incompatible.\n",
            "google-cloud-translate 1.5.0 requires google-cloud-core<2.0dev,>=1.0.0, but you have google-cloud-core 2.3.2 which is incompatible.\n",
            "google-cloud-language 1.2.0 requires google-api-core[grpc]<2.0.0dev,>=1.6.0, but you have google-api-core 2.8.2 which is incompatible.\n",
            "google-cloud-firestore 1.7.0 requires google-api-core[grpc]<2.0.0dev,>=1.14.0, but you have google-api-core 2.8.2 which is incompatible.\n",
            "google-cloud-firestore 1.7.0 requires google-cloud-core<2.0dev,>=1.0.3, but you have google-cloud-core 2.3.2 which is incompatible.\n",
            "google-cloud-datastore 1.8.0 requires google-api-core[grpc]<2.0.0dev,>=1.6.0, but you have google-api-core 2.8.2 which is incompatible.\n",
            "google-cloud-datastore 1.8.0 requires google-cloud-core<2.0dev,>=1.0.0, but you have google-cloud-core 2.3.2 which is incompatible.\n",
            "firebase-admin 4.4.0 requires google-api-core[grpc]<2.0.0dev,>=1.14.0; platform_python_implementation != \"PyPy\", but you have google-api-core 2.8.2 which is incompatible.\u001b[0m\u001b[31m\n",
            "\u001b[0m\u001b[33mWARNING: Running pip as the 'root' user can result in broken permissions and conflicting behaviour with the system package manager. It is recommended to use a virtual environment instead: https://pip.pypa.io/warnings/venv\u001b[0m\u001b[33m\n",
            "\u001b[0m"
          ]
        }
      ]
    },
    {
      "cell_type": "code",
      "source": [
        "import os\n",
        "\n",
        "# The Google Cloud Notebook product has specific requirements\n",
        "IS_GOOGLE_CLOUD_NOTEBOOK = os.path.exists(\"/opt/deeplearning/metadata/env_version\")\n",
        "\n",
        "# Google Cloud Notebook requires dependencies to be installed with '--user'\n",
        "USER_FLAG = \"\"\n",
        "if IS_GOOGLE_CLOUD_NOTEBOOK:\n",
        "    USER_FLAG = \"--user\""
      ],
      "metadata": {
        "id": "GnekDUq_eMMC"
      },
      "execution_count": null,
      "outputs": []
    },
    {
      "cell_type": "code",
      "source": [
        "!pip -q install {USER_FLAG} --upgrade transformers\n",
        "!pip -q install {USER_FLAG} --upgrade datasets\n",
        "!pip -q install {USER_FLAG} --upgrade tqdm\n",
        "!pip -q install {USER_FLAG} --upgrade cloudml-hypertune\n"
      ],
      "metadata": {
        "colab": {
          "base_uri": "https://localhost:8080/"
        },
        "id": "CveGIk2Kfu71",
        "outputId": "2cb06ddb-155a-4305-94f8-bc94c2242800"
      },
      "execution_count": null,
      "outputs": [
        {
          "output_type": "stream",
          "name": "stdout",
          "text": [
            "\u001b[2K     \u001b[90m━━━━━━━━━━━━━━━━━━━━━━━━━━━━━━━━━━━━━━━━\u001b[0m \u001b[32m4.7/4.7 MB\u001b[0m \u001b[31m31.9 MB/s\u001b[0m eta \u001b[36m0:00:00\u001b[0m\n",
            "\u001b[2K     \u001b[90m━━━━━━━━━━━━━━━━━━━━━━━━━━━━━━━━━━━━━━\u001b[0m \u001b[32m101.5/101.5 kB\u001b[0m \u001b[31m13.1 MB/s\u001b[0m eta \u001b[36m0:00:00\u001b[0m\n",
            "\u001b[2K     \u001b[90m━━━━━━━━━━━━━━━━━━━━━━━━━━━━━━━━━━━━━━━━\u001b[0m \u001b[32m6.6/6.6 MB\u001b[0m \u001b[31m79.1 MB/s\u001b[0m eta \u001b[36m0:00:00\u001b[0m\n",
            "\u001b[2K     \u001b[90m━━━━━━━━━━━━━━━━━━━━━━━━━━━━━━━━━━━━━━\u001b[0m \u001b[32m596.3/596.3 kB\u001b[0m \u001b[31m40.6 MB/s\u001b[0m eta \u001b[36m0:00:00\u001b[0m\n",
            "\u001b[?25h\u001b[33mWARNING: Running pip as the 'root' user can result in broken permissions and conflicting behaviour with the system package manager. It is recommended to use a virtual environment instead: https://pip.pypa.io/warnings/venv\u001b[0m\u001b[33m\n",
            "\u001b[2K     \u001b[90m━━━━━━━━━━━━━━━━━━━━━━━━━━━━━━━━━━━━━━\u001b[0m \u001b[32m365.7/365.7 kB\u001b[0m \u001b[31m15.7 MB/s\u001b[0m eta \u001b[36m0:00:00\u001b[0m\n",
            "\u001b[2K     \u001b[90m━━━━━━━━━━━━━━━━━━━━━━━━━━━━━━━━━━━━━━\u001b[0m \u001b[32m115.1/115.1 kB\u001b[0m \u001b[31m13.0 MB/s\u001b[0m eta \u001b[36m0:00:00\u001b[0m\n",
            "\u001b[2K     \u001b[90m━━━━━━━━━━━━━━━━━━━━━━━━━━━━━━━━━━━━━━\u001b[0m \u001b[32m212.2/212.2 kB\u001b[0m \u001b[31m18.9 MB/s\u001b[0m eta \u001b[36m0:00:00\u001b[0m\n",
            "\u001b[2K     \u001b[90m━━━━━━━━━━━━━━━━━━━━━━━━━━━━━━━━━━━━━━━\u001b[0m \u001b[32m141.2/141.2 kB\u001b[0m \u001b[31m9.2 MB/s\u001b[0m eta \u001b[36m0:00:00\u001b[0m\n",
            "\u001b[2K     \u001b[90m━━━━━━━━━━━━━━━━━━━━━━━━━━━━━━━━━━━━━━\u001b[0m \u001b[32m128.0/128.0 kB\u001b[0m \u001b[31m15.2 MB/s\u001b[0m eta \u001b[36m0:00:00\u001b[0m\n",
            "\u001b[?25h\u001b[31mERROR: pip's dependency resolver does not currently take into account all the packages that are installed. This behaviour is the source of the following dependency conflicts.\n",
            "firebase-admin 4.4.0 requires google-api-core[grpc]<2.0.0dev,>=1.14.0; platform_python_implementation != \"PyPy\", but you have google-api-core 2.8.2 which is incompatible.\u001b[0m\u001b[31m\n",
            "\u001b[0m\u001b[33mWARNING: Running pip as the 'root' user can result in broken permissions and conflicting behaviour with the system package manager. It is recommended to use a virtual environment instead: https://pip.pypa.io/warnings/venv\u001b[0m\u001b[33m\n",
            "\u001b[0m\u001b[33mWARNING: Running pip as the 'root' user can result in broken permissions and conflicting behaviour with the system package manager. It is recommended to use a virtual environment instead: https://pip.pypa.io/warnings/venv\u001b[0m\u001b[33m\n",
            "\u001b[0m  Preparing metadata (setup.py) ... \u001b[?25l\u001b[?25hdone\n",
            "  Building wheel for cloudml-hypertune (setup.py) ... \u001b[?25l\u001b[?25hdone\n",
            "\u001b[33mWARNING: Running pip as the 'root' user can result in broken permissions and conflicting behaviour with the system package manager. It is recommended to use a virtual environment instead: https://pip.pypa.io/warnings/venv\u001b[0m\u001b[33m\n",
            "\u001b[0m"
          ]
        }
      ]
    },
    {
      "cell_type": "code",
      "source": [
        "!pip install plotly"
      ],
      "metadata": {
        "colab": {
          "base_uri": "https://localhost:8080/"
        },
        "id": "Wziq9_N_zoVw",
        "outputId": "887938a3-a377-4f9a-ab81-f0c7af5fa048"
      },
      "execution_count": null,
      "outputs": [
        {
          "output_type": "stream",
          "name": "stdout",
          "text": [
            "Looking in indexes: https://pypi.org/simple, https://us-python.pkg.dev/colab-wheels/public/simple/\n",
            "Requirement already satisfied: plotly in /usr/local/lib/python3.7/dist-packages (5.5.0)\n",
            "Requirement already satisfied: six in /usr/local/lib/python3.7/dist-packages (from plotly) (1.15.0)\n",
            "Requirement already satisfied: tenacity>=6.2.0 in /usr/local/lib/python3.7/dist-packages (from plotly) (8.0.1)\n",
            "\u001b[33mWARNING: Running pip as the 'root' user can result in broken permissions and conflicting behaviour with the system package manager. It is recommended to use a virtual environment instead: https://pip.pypa.io/warnings/venv\u001b[0m\u001b[33m\n",
            "\u001b[0m"
          ]
        }
      ]
    },
    {
      "cell_type": "code",
      "source": [
        "#revert back pyyaml for load() \n",
        "!pip install pyyaml==5.4.1"
      ],
      "metadata": {
        "colab": {
          "base_uri": "https://localhost:8080/"
        },
        "id": "gnsT16bVz9Tu",
        "outputId": "60a2a34d-a0f9-4b8f-cad6-55d35fb41f32"
      },
      "execution_count": null,
      "outputs": [
        {
          "output_type": "stream",
          "name": "stdout",
          "text": [
            "Looking in indexes: https://pypi.org/simple, https://us-python.pkg.dev/colab-wheels/public/simple/\n",
            "Collecting pyyaml==5.4.1\n",
            "  Downloading PyYAML-5.4.1-cp37-cp37m-manylinux1_x86_64.whl (636 kB)\n",
            "\u001b[2K     \u001b[90m━━━━━━━━━━━━━━━━━━━━━━━━━━━━━━━━━━━━━━\u001b[0m \u001b[32m636.6/636.6 kB\u001b[0m \u001b[31m37.1 MB/s\u001b[0m eta \u001b[36m0:00:00\u001b[0m\n",
            "\u001b[?25hInstalling collected packages: pyyaml\n",
            "  Attempting uninstall: pyyaml\n",
            "    Found existing installation: PyYAML 6.0\n",
            "    Uninstalling PyYAML-6.0:\n",
            "      Successfully uninstalled PyYAML-6.0\n",
            "Successfully installed pyyaml-5.4.1\n",
            "\u001b[33mWARNING: Running pip as the 'root' user can result in broken permissions and conflicting behaviour with the system package manager. It is recommended to use a virtual environment instead: https://pip.pypa.io/warnings/venv\u001b[0m\u001b[33m\n",
            "\u001b[0m"
          ]
        }
      ]
    },
    {
      "cell_type": "markdown",
      "source": [
        "## Import Libraries"
      ],
      "metadata": {
        "id": "rTetpzJegi4m"
      }
    },
    {
      "cell_type": "code",
      "source": [
        "# Automatically restart kernel after installs\n",
        "import os\n",
        "\n",
        "if not os.getenv(\"IS_TESTING\"):\n",
        "    # Automatically restart kernel after installs\n",
        "    import IPython\n",
        "\n",
        "    app = IPython.Application.instance()\n",
        "    app.kernel.do_shutdown(True)"
      ],
      "metadata": {
        "id": "k466TD8uZnxV"
      },
      "execution_count": null,
      "outputs": []
    },
    {
      "cell_type": "markdown",
      "source": [
        "## Authenticate Google Cloud Account"
      ],
      "metadata": {
        "id": "cVwAlMVhQ0z5"
      }
    },
    {
      "cell_type": "code",
      "source": [
        "import os\n",
        "import sys\n",
        "\n",
        "# If you are running this notebook in Colab, run this cell and follow the\n",
        "# instructions to authenticate your GCP account. This provides access to your\n",
        "# Cloud Storage bucket and lets you submit training jobs and prediction\n",
        "# requests.\n",
        "\n",
        "# The Google Cloud Notebook product has specific requirements\n",
        "IS_GOOGLE_CLOUD_NOTEBOOK = os.path.exists(\"/opt/deeplearning/metadata/env_version\")\n",
        "\n",
        "# If on Google Cloud Notebooks, then don't execute this code\n",
        "if not IS_GOOGLE_CLOUD_NOTEBOOK:\n",
        "    if \"google.colab\" in sys.modules:\n",
        "        from google.colab import auth as google_auth\n",
        "\n",
        "        google_auth.authenticate_user()\n",
        "\n",
        "    # If you are running this notebook locally, replace the string below with the\n",
        "    # path to your service account key and run this cell to authenticate your GCP\n",
        "    # account.\n",
        "    elif not os.getenv(\"IS_TESTING\"):\n",
        "        %env GOOGLE_APPLICATION_CREDENTIALS ''"
      ],
      "metadata": {
        "id": "cQuckBO8Q5Vd"
      },
      "execution_count": null,
      "outputs": []
    },
    {
      "cell_type": "markdown",
      "source": [
        "## Set your Project ID"
      ],
      "metadata": {
        "id": "CuDc84H7NO4D"
      }
    },
    {
      "cell_type": "code",
      "source": [
        "PROJECT_ID = \"music-application-356716\"  # <---CHANGE THIS TO YOUR PROJECT\n",
        "\n",
        "import os\n",
        "\n",
        "# Get your Google Cloud project ID using google.auth\n",
        "# if not os.getenv(\"IS_TESTING\"):\n",
        "#     import google.auth\n",
        "\n",
        "#     _, PROJECT_ID = google.auth.default()\n",
        "#     print(\"Project ID: \", PROJECT_ID)\n",
        "\n",
        "# validate PROJECT_ID\n",
        "if PROJECT_ID == \"\" or PROJECT_ID is None or PROJECT_ID == \"[your-project-id]\":\n",
        "    print(\n",
        "        f\"Please set your project id before proceeding to next step. Currently it's set as {PROJECT_ID}\"\n",
        "    )"
      ],
      "metadata": {
        "id": "2RRhSIETNWQp"
      },
      "execution_count": null,
      "outputs": []
    },
    {
      "cell_type": "markdown",
      "source": [
        "## Create Cloud Storage Bucket"
      ],
      "metadata": {
        "id": "9AXzJZrMTOd9"
      }
    },
    {
      "cell_type": "code",
      "source": [
        "BUCKET_NAME = \"gs://genre-classification-bucket\"  # <---CHANGE THIS TO YOUR BUCKET\n",
        "REGION = \"asia-southeast1\"  # @param {type:\"string\"}"
      ],
      "metadata": {
        "id": "EnvXC510cwAc"
      },
      "execution_count": null,
      "outputs": []
    },
    {
      "cell_type": "code",
      "source": [
        "print(f\"PROJECT_ID = {PROJECT_ID}\")\n",
        "print(f\"BUCKET_NAME = {BUCKET_NAME}\")\n",
        "print(f\"REGION = {REGION}\")"
      ],
      "metadata": {
        "colab": {
          "base_uri": "https://localhost:8080/"
        },
        "id": "q4DhS0n8dM4s",
        "outputId": "18056676-c31a-482d-d124-1e81a781f050"
      },
      "execution_count": null,
      "outputs": [
        {
          "output_type": "stream",
          "name": "stdout",
          "text": [
            "PROJECT_ID = music-application-356716\n",
            "BUCKET_NAME = gs://genre-classification-bucket\n",
            "REGION = asia-southeast1\n"
          ]
        }
      ]
    },
    {
      "cell_type": "markdown",
      "source": [
        "## Import Libraries and define constants"
      ],
      "metadata": {
        "id": "TywgQ8Ncdlpu"
      }
    },
    {
      "cell_type": "code",
      "source": [
        "import base64\n",
        "import json\n",
        "import os\n",
        "import random\n",
        "import sys\n",
        "\n",
        "import google.auth\n",
        "from google.cloud import aiplatform\n",
        "from google.cloud.aiplatform import gapic as aip\n",
        "from google.cloud.aiplatform import hyperparameter_tuning as hpt\n",
        "from google.protobuf.json_format import MessageToDict"
      ],
      "metadata": {
        "id": "1mX5veSodovY"
      },
      "execution_count": null,
      "outputs": []
    },
    {
      "cell_type": "code",
      "source": [
        "from IPython.display import HTML, display"
      ],
      "metadata": {
        "id": "SuyWSNaPdqX6"
      },
      "execution_count": null,
      "outputs": []
    },
    {
      "cell_type": "code",
      "source": [
        "import datasets\n",
        "import numpy as np\n",
        "import pandas as pd\n",
        "import torch\n",
        "import transformers\n",
        "from datasets import ClassLabel, Sequence, load_dataset\n",
        "from transformers import (AutoModelForSequenceClassification, AutoTokenizer,\n",
        "                          EvalPrediction, Trainer, TrainingArguments,\n",
        "                          default_data_collator)\n",
        "import plotly.express as px\n",
        "import plotly.graph_objs as go"
      ],
      "metadata": {
        "id": "4ywFwHcIdr2Z",
        "colab": {
          "base_uri": "https://localhost:8080/"
        },
        "outputId": "de8b3b0d-ab5a-47fa-b313-0e8ec72549a8"
      },
      "execution_count": null,
      "outputs": [
        {
          "output_type": "stream",
          "name": "stderr",
          "text": [
            "/usr/local/lib/python3.7/dist-packages/distributed/config.py:20: YAMLLoadWarning: calling yaml.load() without Loader=... is deprecated, as the default Loader is unsafe. Please read https://msg.pyyaml.org/load for full details.\n",
            "  defaults = yaml.load(f)\n"
          ]
        }
      ]
    },
    {
      "cell_type": "markdown",
      "source": [
        "## Load data from GCS"
      ],
      "metadata": {
        "id": "k7wNPKZchmH8"
      }
    },
    {
      "cell_type": "code",
      "source": [
        "# You have to be authenticated for this\n",
        "# Make sure you have set your PROJECT ID\n",
        "\n",
        "!gcloud config set project {PROJECT_ID}"
      ],
      "metadata": {
        "colab": {
          "base_uri": "https://localhost:8080/"
        },
        "id": "IbyqO75uetyX",
        "outputId": "2eea4cff-e7d4-4626-87e0-5df3e9bb4e33"
      },
      "execution_count": null,
      "outputs": [
        {
          "output_type": "stream",
          "name": "stdout",
          "text": [
            "Updated property [core/project].\n"
          ]
        }
      ]
    },
    {
      "cell_type": "code",
      "source": [
        "# Download the file from a given Google Cloud Storage bucket.\n",
        "# The {BUCKET_NAME} did not work, had to manually place the actual bucket name\n",
        "\n",
        "\n",
        "!gsutil cp gs://genre-classification-bucket/tracks.csv /tmp/tracks.csv\n",
        "!gsutil cp gs://genre-classification-bucket/genres.csv /tmp/genres.csv\n",
        "# !gsutil cp gs://genre-classification-bucket/genres.csv /tmp/features.csv\n",
        "\n",
        "# Print the result to make sure the transfer worked.\n",
        "# !cat /tmp/tracks.csv"
      ],
      "metadata": {
        "colab": {
          "base_uri": "https://localhost:8080/"
        },
        "id": "2Zpx4BWFetye",
        "outputId": "54fab464-83d7-402d-ab5f-698822d607ec"
      },
      "execution_count": null,
      "outputs": [
        {
          "output_type": "stream",
          "name": "stdout",
          "text": [
            "Copying gs://genre-classification-bucket/tracks.csv...\n",
            "- [1 files][248.4 MiB/248.4 MiB]                                                \n",
            "Operation completed over 1 objects/248.4 MiB.                                    \n",
            "Copying gs://genre-classification-bucket/genres.csv...\n",
            "/ [1 files][  3.8 KiB/  3.8 KiB]                                                \n",
            "Operation completed over 1 objects/3.8 KiB.                                      \n"
          ]
        }
      ]
    },
    {
      "cell_type": "markdown",
      "source": [
        "### Stretch Task: Mount GCS using gscfuse"
      ],
      "metadata": {
        "id": "MInDzkGqmXzl"
      }
    },
    {
      "cell_type": "code",
      "source": [
        "!echo \"deb http://packages.cloud.google.com/apt gcsfuse-bionic main\" > /etc/apt/sources.list.d/gcsfuse.list\n",
        "!curl https://packages.cloud.google.com/apt/doc/apt-key.gpg | apt-key add -\n",
        "!apt -qq update\n",
        "!apt -qq install gcsfuse "
      ],
      "metadata": {
        "id": "qe8QdlS_nVw0",
        "colab": {
          "base_uri": "https://localhost:8080/"
        },
        "outputId": "268b758a-c387-4960-e315-931a957a62f6"
      },
      "execution_count": null,
      "outputs": [
        {
          "output_type": "stream",
          "name": "stdout",
          "text": [
            "  % Total    % Received % Xferd  Average Speed   Time    Time     Time  Current\n",
            "                                 Dload  Upload   Total   Spent    Left  Speed\n",
            "\r  0     0    0     0    0     0      0      0 --:--:-- --:--:-- --:--:--     0\r100  2537  100  2537    0     0    99k      0 --:--:-- --:--:-- --:--:--   99k\n",
            "OK\n",
            "38 packages can be upgraded. Run 'apt list --upgradable' to see them.\n",
            "The following package was automatically installed and is no longer required:\n",
            "  libnvidia-common-460\n",
            "Use 'apt autoremove' to remove it.\n",
            "The following NEW packages will be installed:\n",
            "  gcsfuse\n",
            "0 upgraded, 1 newly installed, 0 to remove and 38 not upgraded.\n",
            "Need to get 12.1 MB of archives.\n",
            "After this operation, 27.5 MB of additional disk space will be used.\n",
            "Selecting previously unselected package gcsfuse.\n",
            "(Reading database ... 155680 files and directories currently installed.)\n",
            "Preparing to unpack .../gcsfuse_0.41.5_amd64.deb ...\n",
            "Unpacking gcsfuse (0.41.5) ...\n",
            "Setting up gcsfuse (0.41.5) ...\n"
          ]
        }
      ]
    },
    {
      "cell_type": "code",
      "source": [
        "!mkdir googleBucketFolder\n",
        "!gcsfuse --implicit-dirs colab-connect-bucket googleBucketFolder"
      ],
      "metadata": {
        "id": "3-A3ZdoZnWoI",
        "colab": {
          "base_uri": "https://localhost:8080/"
        },
        "outputId": "97039fa1-db35-4a68-db00-a33715dfc28e"
      },
      "execution_count": null,
      "outputs": [
        {
          "output_type": "stream",
          "name": "stdout",
          "text": [
            "2022/08/15 08:39:39.741726 Start gcsfuse/0.41.5 (Go version go1.18.4) for app \"\" using mount point: /content/googleBucketFolder\n",
            "2022/08/15 08:39:39.755034 Opening GCS connection...\n",
            "2022/08/15 08:39:41.283016 Mounting file system \"colab-connect-bucket\"...\n",
            "2022/08/15 08:39:41.316072 File system has been successfully mounted.\n"
          ]
        }
      ]
    },
    {
      "cell_type": "code",
      "source": [
        "!gsutil cp /content/googleBucketFolder/cat.jpg ."
      ],
      "metadata": {
        "id": "xKQ7TDPFnbnC",
        "colab": {
          "base_uri": "https://localhost:8080/"
        },
        "outputId": "631adcea-9a00-44bb-e34b-b9cae4c3f2b9"
      },
      "execution_count": null,
      "outputs": [
        {
          "output_type": "stream",
          "name": "stdout",
          "text": [
            "CommandException: No URLs matched: /content/googleBucketFolder/cat.jpg\n"
          ]
        }
      ]
    },
    {
      "cell_type": "markdown",
      "source": [
        "### Stretch Task: Load from Google *Drive*"
      ],
      "metadata": {
        "id": "I81PdlPvmdyC"
      }
    },
    {
      "cell_type": "markdown",
      "source": [],
      "metadata": {
        "id": "79hFR_umue3N"
      }
    },
    {
      "cell_type": "markdown",
      "source": [
        "## File to DataFrame"
      ],
      "metadata": {
        "id": "8jUAbthsuYDZ"
      }
    },
    {
      "cell_type": "code",
      "source": [
        "TRACK_DATA_PATH = \"/tmp/tracks.csv\"\n",
        "GENRE_DATA_PATH = '/tmp/genres.csv'\n",
        "# FEAT_DATA_PATH = 'tmp/features.csv'"
      ],
      "metadata": {
        "id": "W1Fw7d7xM7p9"
      },
      "execution_count": null,
      "outputs": []
    },
    {
      "cell_type": "markdown",
      "source": [
        "[Source code for load function](https://github.com/mdeff/fma/blob/master/utils.py)"
      ],
      "metadata": {
        "id": "03D-h1Bur7xd"
      }
    },
    {
      "cell_type": "code",
      "source": [
        "import ast\n",
        "\n",
        "def load(filepath):\n",
        "\n",
        "    filename = os.path.basename(filepath)\n",
        "\n",
        "    if 'features' in filename:\n",
        "        return pd.read_csv(filepath, index_col=0, header=[0, 1, 2])\n",
        "\n",
        "    if 'echonest' in filename:\n",
        "        return pd.read_csv(filepath, index_col=0, header=[0, 1, 2])\n",
        "\n",
        "    if 'genres' in filename:\n",
        "        return pd.read_csv(filepath, index_col=0)\n",
        "\n",
        "    if 'tracks' in filename:\n",
        "        tracks = pd.read_csv(filepath, index_col=0, header=[0, 1])\n",
        "\n",
        "        COLUMNS = [('track', 'tags'), ('album', 'tags'), ('artist', 'tags'),\n",
        "                   ('track', 'genres'), ('track', 'genres_all')]\n",
        "        for column in COLUMNS:\n",
        "            tracks[column] = tracks[column].map(ast.literal_eval)\n",
        "\n",
        "        COLUMNS = [('track', 'date_created'), ('track', 'date_recorded'),\n",
        "                   ('album', 'date_created'), ('album', 'date_released'),\n",
        "                   ('artist', 'date_created'), ('artist', 'active_year_begin'),\n",
        "                   ('artist', 'active_year_end')]\n",
        "        for column in COLUMNS:\n",
        "            tracks[column] = pd.to_datetime(tracks[column])\n",
        "\n",
        "        SUBSETS = ('small', 'medium', 'large')\n",
        "        try:\n",
        "            tracks['set', 'subset'] = tracks['set', 'subset'].astype(\n",
        "                    'category', categories=SUBSETS, ordered=True)\n",
        "        except (ValueError, TypeError):\n",
        "            # the categories and ordered arguments were removed in pandas 0.25\n",
        "            tracks['set', 'subset'] = tracks['set', 'subset'].astype(\n",
        "                     pd.CategoricalDtype(categories=SUBSETS, ordered=True))\n",
        "\n",
        "        COLUMNS = [('track', 'genre_top'), ('track', 'license'),\n",
        "                   ('album', 'type'), ('album', 'information'),\n",
        "                   ('artist', 'bio')]\n",
        "        for column in COLUMNS:\n",
        "            tracks[column] = tracks[column].astype('category')\n",
        "\n",
        "        return tracks"
      ],
      "metadata": {
        "id": "RGpaSRn_rka8"
      },
      "execution_count": null,
      "outputs": []
    },
    {
      "cell_type": "code",
      "source": [
        "df = load(TRACK_DATA_PATH)\n",
        "genre_df = load(GENRE_DATA_PATH)\n",
        "# feat_df = load(FEAT_DATA_PATH)"
      ],
      "metadata": {
        "id": "ikR2G0-UheY_"
      },
      "execution_count": null,
      "outputs": []
    },
    {
      "cell_type": "markdown",
      "source": [
        "#Exploratory Data Analysis"
      ],
      "metadata": {
        "id": "qCkVbRWXM-Mh"
      }
    },
    {
      "cell_type": "markdown",
      "source": [
        "### Stretch Task: BigQuery EDA"
      ],
      "metadata": {
        "id": "Pn3zVxz7HBii"
      }
    },
    {
      "cell_type": "code",
      "source": [],
      "metadata": {
        "id": "zYNlnDDFHGrX"
      },
      "execution_count": null,
      "outputs": []
    },
    {
      "cell_type": "markdown",
      "source": [
        "## EDA Questions"
      ],
      "metadata": {
        "id": "4VyMGuCKaQKJ"
      }
    },
    {
      "cell_type": "code",
      "source": [
        "track_df = df['track'].copy()"
      ],
      "metadata": {
        "id": "5FbO7nG4aBP5"
      },
      "execution_count": null,
      "outputs": []
    },
    {
      "cell_type": "markdown",
      "source": [
        "### How many genres do we have? 163."
      ],
      "metadata": {
        "id": "m7LdDp1jZ2OW"
      }
    },
    {
      "cell_type": "code",
      "source": [
        "track_df[['genre_top', 'genres', 'genres_all']].sample(20)"
      ],
      "metadata": {
        "id": "R9DIKwIat9H9"
      },
      "execution_count": null,
      "outputs": []
    },
    {
      "cell_type": "code",
      "source": [
        "track_df['genre_top'].unique()"
      ],
      "metadata": {
        "colab": {
          "base_uri": "https://localhost:8080/"
        },
        "id": "rNzSmLixwRwp",
        "outputId": "da5461b8-13b7-4950-afd5-3a4b06f35d7c"
      },
      "execution_count": null,
      "outputs": [
        {
          "output_type": "execute_result",
          "data": {
            "text/plain": [
              "['Hip-Hop', 'Pop', NaN, 'Rock', 'Experimental', ..., 'Country', 'Classical', 'Old-Time / Historic', 'Instrumental', 'Easy Listening']\n",
              "Length: 17\n",
              "Categories (16, object): ['Blues', 'Classical', 'Country', 'Easy Listening', ..., 'Pop', 'Rock',\n",
              "                          'Soul-RnB', 'Spoken']"
            ]
          },
          "metadata": {},
          "execution_count": 45
        }
      ]
    },
    {
      "cell_type": "code",
      "source": [
        "genre_df.head()"
      ],
      "metadata": {
        "colab": {
          "base_uri": "https://localhost:8080/",
          "height": 235
        },
        "id": "hZ-Sz6DP3Jbf",
        "outputId": "ab0ab706-e3eb-4cd2-98bc-fb104927854e"
      },
      "execution_count": null,
      "outputs": [
        {
          "output_type": "execute_result",
          "data": {
            "text/plain": [
              "          #tracks  parent          title  top_level\n",
              "genre_id                                           \n",
              "1            8693      38    Avant-Garde         38\n",
              "2            5271       0  International          2\n",
              "3            1752       0          Blues          3\n",
              "4            4126       0           Jazz          4\n",
              "5            4106       0      Classical          5"
            ],
            "text/html": [
              "\n",
              "  <div id=\"df-2ed0a044-54a8-4c20-88f2-c17776329e78\">\n",
              "    <div class=\"colab-df-container\">\n",
              "      <div>\n",
              "<style scoped>\n",
              "    .dataframe tbody tr th:only-of-type {\n",
              "        vertical-align: middle;\n",
              "    }\n",
              "\n",
              "    .dataframe tbody tr th {\n",
              "        vertical-align: top;\n",
              "    }\n",
              "\n",
              "    .dataframe thead th {\n",
              "        text-align: right;\n",
              "    }\n",
              "</style>\n",
              "<table border=\"1\" class=\"dataframe\">\n",
              "  <thead>\n",
              "    <tr style=\"text-align: right;\">\n",
              "      <th></th>\n",
              "      <th>#tracks</th>\n",
              "      <th>parent</th>\n",
              "      <th>title</th>\n",
              "      <th>top_level</th>\n",
              "    </tr>\n",
              "    <tr>\n",
              "      <th>genre_id</th>\n",
              "      <th></th>\n",
              "      <th></th>\n",
              "      <th></th>\n",
              "      <th></th>\n",
              "    </tr>\n",
              "  </thead>\n",
              "  <tbody>\n",
              "    <tr>\n",
              "      <th>1</th>\n",
              "      <td>8693</td>\n",
              "      <td>38</td>\n",
              "      <td>Avant-Garde</td>\n",
              "      <td>38</td>\n",
              "    </tr>\n",
              "    <tr>\n",
              "      <th>2</th>\n",
              "      <td>5271</td>\n",
              "      <td>0</td>\n",
              "      <td>International</td>\n",
              "      <td>2</td>\n",
              "    </tr>\n",
              "    <tr>\n",
              "      <th>3</th>\n",
              "      <td>1752</td>\n",
              "      <td>0</td>\n",
              "      <td>Blues</td>\n",
              "      <td>3</td>\n",
              "    </tr>\n",
              "    <tr>\n",
              "      <th>4</th>\n",
              "      <td>4126</td>\n",
              "      <td>0</td>\n",
              "      <td>Jazz</td>\n",
              "      <td>4</td>\n",
              "    </tr>\n",
              "    <tr>\n",
              "      <th>5</th>\n",
              "      <td>4106</td>\n",
              "      <td>0</td>\n",
              "      <td>Classical</td>\n",
              "      <td>5</td>\n",
              "    </tr>\n",
              "  </tbody>\n",
              "</table>\n",
              "</div>\n",
              "      <button class=\"colab-df-convert\" onclick=\"convertToInteractive('df-2ed0a044-54a8-4c20-88f2-c17776329e78')\"\n",
              "              title=\"Convert this dataframe to an interactive table.\"\n",
              "              style=\"display:none;\">\n",
              "        \n",
              "  <svg xmlns=\"http://www.w3.org/2000/svg\" height=\"24px\"viewBox=\"0 0 24 24\"\n",
              "       width=\"24px\">\n",
              "    <path d=\"M0 0h24v24H0V0z\" fill=\"none\"/>\n",
              "    <path d=\"M18.56 5.44l.94 2.06.94-2.06 2.06-.94-2.06-.94-.94-2.06-.94 2.06-2.06.94zm-11 1L8.5 8.5l.94-2.06 2.06-.94-2.06-.94L8.5 2.5l-.94 2.06-2.06.94zm10 10l.94 2.06.94-2.06 2.06-.94-2.06-.94-.94-2.06-.94 2.06-2.06.94z\"/><path d=\"M17.41 7.96l-1.37-1.37c-.4-.4-.92-.59-1.43-.59-.52 0-1.04.2-1.43.59L10.3 9.45l-7.72 7.72c-.78.78-.78 2.05 0 2.83L4 21.41c.39.39.9.59 1.41.59.51 0 1.02-.2 1.41-.59l7.78-7.78 2.81-2.81c.8-.78.8-2.07 0-2.86zM5.41 20L4 18.59l7.72-7.72 1.47 1.35L5.41 20z\"/>\n",
              "  </svg>\n",
              "      </button>\n",
              "      \n",
              "  <style>\n",
              "    .colab-df-container {\n",
              "      display:flex;\n",
              "      flex-wrap:wrap;\n",
              "      gap: 12px;\n",
              "    }\n",
              "\n",
              "    .colab-df-convert {\n",
              "      background-color: #E8F0FE;\n",
              "      border: none;\n",
              "      border-radius: 50%;\n",
              "      cursor: pointer;\n",
              "      display: none;\n",
              "      fill: #1967D2;\n",
              "      height: 32px;\n",
              "      padding: 0 0 0 0;\n",
              "      width: 32px;\n",
              "    }\n",
              "\n",
              "    .colab-df-convert:hover {\n",
              "      background-color: #E2EBFA;\n",
              "      box-shadow: 0px 1px 2px rgba(60, 64, 67, 0.3), 0px 1px 3px 1px rgba(60, 64, 67, 0.15);\n",
              "      fill: #174EA6;\n",
              "    }\n",
              "\n",
              "    [theme=dark] .colab-df-convert {\n",
              "      background-color: #3B4455;\n",
              "      fill: #D2E3FC;\n",
              "    }\n",
              "\n",
              "    [theme=dark] .colab-df-convert:hover {\n",
              "      background-color: #434B5C;\n",
              "      box-shadow: 0px 1px 3px 1px rgba(0, 0, 0, 0.15);\n",
              "      filter: drop-shadow(0px 1px 2px rgba(0, 0, 0, 0.3));\n",
              "      fill: #FFFFFF;\n",
              "    }\n",
              "  </style>\n",
              "\n",
              "      <script>\n",
              "        const buttonEl =\n",
              "          document.querySelector('#df-2ed0a044-54a8-4c20-88f2-c17776329e78 button.colab-df-convert');\n",
              "        buttonEl.style.display =\n",
              "          google.colab.kernel.accessAllowed ? 'block' : 'none';\n",
              "\n",
              "        async function convertToInteractive(key) {\n",
              "          const element = document.querySelector('#df-2ed0a044-54a8-4c20-88f2-c17776329e78');\n",
              "          const dataTable =\n",
              "            await google.colab.kernel.invokeFunction('convertToInteractive',\n",
              "                                                     [key], {});\n",
              "          if (!dataTable) return;\n",
              "\n",
              "          const docLinkHtml = 'Like what you see? Visit the ' +\n",
              "            '<a target=\"_blank\" href=https://colab.research.google.com/notebooks/data_table.ipynb>data table notebook</a>'\n",
              "            + ' to learn more about interactive tables.';\n",
              "          element.innerHTML = '';\n",
              "          dataTable['output_type'] = 'display_data';\n",
              "          await google.colab.output.renderOutput(dataTable, element);\n",
              "          const docLink = document.createElement('div');\n",
              "          docLink.innerHTML = docLinkHtml;\n",
              "          element.appendChild(docLink);\n",
              "        }\n",
              "      </script>\n",
              "    </div>\n",
              "  </div>\n",
              "  "
            ]
          },
          "metadata": {},
          "execution_count": 52
        }
      ]
    },
    {
      "cell_type": "code",
      "source": [
        "genre_df['title'].nunique()"
      ],
      "metadata": {
        "colab": {
          "base_uri": "https://localhost:8080/"
        },
        "id": "gt0csphu3V6Z",
        "outputId": "df19933c-af2a-4fe4-f55d-9f5ce6e6c4cd"
      },
      "execution_count": null,
      "outputs": [
        {
          "output_type": "execute_result",
          "data": {
            "text/plain": [
              "163"
            ]
          },
          "metadata": {},
          "execution_count": 53
        }
      ]
    },
    {
      "cell_type": "markdown",
      "source": [
        "### What is the ratio of Hip-Hop songs with >10000 listens to all Hip-Hop? Roughly 1.7%"
      ],
      "metadata": {
        "id": "W9m5_wCtNoGL"
      }
    },
    {
      "cell_type": "code",
      "source": [
        "track_df['genre_top'].unique()"
      ],
      "metadata": {
        "colab": {
          "base_uri": "https://localhost:8080/"
        },
        "id": "7TET0hDUQrl0",
        "outputId": "976c0285-a158-4d7c-e828-b3190998e524"
      },
      "execution_count": null,
      "outputs": [
        {
          "output_type": "execute_result",
          "data": {
            "text/plain": [
              "['Hip-Hop', 'Pop', NaN, 'Rock', 'Experimental', ..., 'Country', 'Classical', 'Old-Time / Historic', 'Instrumental', 'Easy Listening']\n",
              "Length: 17\n",
              "Categories (16, object): ['Blues', 'Classical', 'Country', 'Easy Listening', ..., 'Pop', 'Rock',\n",
              "                          'Soul-RnB', 'Spoken']"
            ]
          },
          "metadata": {},
          "execution_count": 22
        }
      ]
    },
    {
      "cell_type": "code",
      "source": [
        "# only the ones with genre_top value\n",
        "all_hiphop = len(track_df.loc[track_df['genre_top'] == 'Hip-Hop'])"
      ],
      "metadata": {
        "id": "syTMl9rHQ2tl"
      },
      "execution_count": null,
      "outputs": []
    },
    {
      "cell_type": "code",
      "source": [
        "listens_only = len(track_df.query('listens > 10_000 and genre_top == \"Hip-Hop\"'))"
      ],
      "metadata": {
        "id": "jg2OCht-NvYw"
      },
      "execution_count": null,
      "outputs": []
    },
    {
      "cell_type": "code",
      "source": [
        "ratio = listens_only / all_hiphop\n",
        "\n",
        "print(ratio)\n",
        "\n",
        "#There's only roughly 1% of hiphop songs that get more than 10_000 listens"
      ],
      "metadata": {
        "id": "kdfM1roQTytt",
        "colab": {
          "base_uri": "https://localhost:8080/"
        },
        "outputId": "39405155-93de-4e06-eecc-1f4d947670c5"
      },
      "execution_count": null,
      "outputs": [
        {
          "output_type": "stream",
          "name": "stdout",
          "text": [
            "0.017736486486486486\n"
          ]
        }
      ]
    },
    {
      "cell_type": "markdown",
      "source": [
        "### How many listens for Hip-Hop across the years?"
      ],
      "metadata": {
        "id": "cA1P6h_OZso0"
      }
    },
    {
      "cell_type": "code",
      "source": [
        "track_df.head()"
      ],
      "metadata": {
        "id": "WdUcuTNOVeU8"
      },
      "execution_count": null,
      "outputs": []
    },
    {
      "cell_type": "code",
      "source": [
        "len(track_df)"
      ],
      "metadata": {
        "id": "jw3j7LgQVv41",
        "outputId": "1d4b36c4-9796-46c8-d5cb-11518ba5a32d",
        "colab": {
          "base_uri": "https://localhost:8080/"
        }
      },
      "execution_count": null,
      "outputs": [
        {
          "output_type": "execute_result",
          "data": {
            "text/plain": [
              "106574"
            ]
          },
          "metadata": {},
          "execution_count": 39
        }
      ]
    },
    {
      "cell_type": "code",
      "source": [
        "track_df['year_created'] = pd.DatetimeIndex(track_df['date_created']).year\n",
        "\n",
        "# assuming years were tracked similarly,\n",
        "hiphop_df = track_df.loc[track_df['genre_top'] == 'Hip-Hop'].copy()\n",
        "hiphop_listens = hiphop_df[['year_created', 'listens']].groupby(['year_created']).sum().copy()\n",
        "hiphop_listens = hiphop_listens.reset_index()\n",
        "\n",
        "#from here, you would still want to see the ratio of songs created and listens\n",
        "#during that year\n",
        "#since the insight could be one banger, or year of Hip-Hop"
      ],
      "metadata": {
        "id": "kIiksk8yrqDI"
      },
      "execution_count": null,
      "outputs": []
    },
    {
      "cell_type": "code",
      "source": [
        "hiphop_listens"
      ],
      "metadata": {
        "colab": {
          "base_uri": "https://localhost:8080/"
        },
        "id": "iMCLfH3t2tFb",
        "outputId": "9d55941b-3951-4985-f9df-c9ad3871cfc9"
      },
      "execution_count": null,
      "outputs": [
        {
          "output_type": "execute_result",
          "data": {
            "text/plain": [
              "   year_created  listens\n",
              "0          2008    42788\n",
              "1          2009   822429\n",
              "2          2010  1074595\n",
              "3          2011   368829\n",
              "4          2012   815967\n",
              "5          2013   587444\n",
              "6          2014   843072\n",
              "7          2015   642169\n",
              "8          2016   633505\n",
              "9          2017   108066"
            ],
            "text/html": [
              "\n",
              "  <div id=\"df-802774c9-bfac-4b6b-b839-601f5e5092a7\">\n",
              "    <div class=\"colab-df-container\">\n",
              "      <div>\n",
              "<style scoped>\n",
              "    .dataframe tbody tr th:only-of-type {\n",
              "        vertical-align: middle;\n",
              "    }\n",
              "\n",
              "    .dataframe tbody tr th {\n",
              "        vertical-align: top;\n",
              "    }\n",
              "\n",
              "    .dataframe thead th {\n",
              "        text-align: right;\n",
              "    }\n",
              "</style>\n",
              "<table border=\"1\" class=\"dataframe\">\n",
              "  <thead>\n",
              "    <tr style=\"text-align: right;\">\n",
              "      <th></th>\n",
              "      <th>year_created</th>\n",
              "      <th>listens</th>\n",
              "    </tr>\n",
              "  </thead>\n",
              "  <tbody>\n",
              "    <tr>\n",
              "      <th>0</th>\n",
              "      <td>2008</td>\n",
              "      <td>42788</td>\n",
              "    </tr>\n",
              "    <tr>\n",
              "      <th>1</th>\n",
              "      <td>2009</td>\n",
              "      <td>822429</td>\n",
              "    </tr>\n",
              "    <tr>\n",
              "      <th>2</th>\n",
              "      <td>2010</td>\n",
              "      <td>1074595</td>\n",
              "    </tr>\n",
              "    <tr>\n",
              "      <th>3</th>\n",
              "      <td>2011</td>\n",
              "      <td>368829</td>\n",
              "    </tr>\n",
              "    <tr>\n",
              "      <th>4</th>\n",
              "      <td>2012</td>\n",
              "      <td>815967</td>\n",
              "    </tr>\n",
              "    <tr>\n",
              "      <th>5</th>\n",
              "      <td>2013</td>\n",
              "      <td>587444</td>\n",
              "    </tr>\n",
              "    <tr>\n",
              "      <th>6</th>\n",
              "      <td>2014</td>\n",
              "      <td>843072</td>\n",
              "    </tr>\n",
              "    <tr>\n",
              "      <th>7</th>\n",
              "      <td>2015</td>\n",
              "      <td>642169</td>\n",
              "    </tr>\n",
              "    <tr>\n",
              "      <th>8</th>\n",
              "      <td>2016</td>\n",
              "      <td>633505</td>\n",
              "    </tr>\n",
              "    <tr>\n",
              "      <th>9</th>\n",
              "      <td>2017</td>\n",
              "      <td>108066</td>\n",
              "    </tr>\n",
              "  </tbody>\n",
              "</table>\n",
              "</div>\n",
              "      <button class=\"colab-df-convert\" onclick=\"convertToInteractive('df-802774c9-bfac-4b6b-b839-601f5e5092a7')\"\n",
              "              title=\"Convert this dataframe to an interactive table.\"\n",
              "              style=\"display:none;\">\n",
              "        \n",
              "  <svg xmlns=\"http://www.w3.org/2000/svg\" height=\"24px\"viewBox=\"0 0 24 24\"\n",
              "       width=\"24px\">\n",
              "    <path d=\"M0 0h24v24H0V0z\" fill=\"none\"/>\n",
              "    <path d=\"M18.56 5.44l.94 2.06.94-2.06 2.06-.94-2.06-.94-.94-2.06-.94 2.06-2.06.94zm-11 1L8.5 8.5l.94-2.06 2.06-.94-2.06-.94L8.5 2.5l-.94 2.06-2.06.94zm10 10l.94 2.06.94-2.06 2.06-.94-2.06-.94-.94-2.06-.94 2.06-2.06.94z\"/><path d=\"M17.41 7.96l-1.37-1.37c-.4-.4-.92-.59-1.43-.59-.52 0-1.04.2-1.43.59L10.3 9.45l-7.72 7.72c-.78.78-.78 2.05 0 2.83L4 21.41c.39.39.9.59 1.41.59.51 0 1.02-.2 1.41-.59l7.78-7.78 2.81-2.81c.8-.78.8-2.07 0-2.86zM5.41 20L4 18.59l7.72-7.72 1.47 1.35L5.41 20z\"/>\n",
              "  </svg>\n",
              "      </button>\n",
              "      \n",
              "  <style>\n",
              "    .colab-df-container {\n",
              "      display:flex;\n",
              "      flex-wrap:wrap;\n",
              "      gap: 12px;\n",
              "    }\n",
              "\n",
              "    .colab-df-convert {\n",
              "      background-color: #E8F0FE;\n",
              "      border: none;\n",
              "      border-radius: 50%;\n",
              "      cursor: pointer;\n",
              "      display: none;\n",
              "      fill: #1967D2;\n",
              "      height: 32px;\n",
              "      padding: 0 0 0 0;\n",
              "      width: 32px;\n",
              "    }\n",
              "\n",
              "    .colab-df-convert:hover {\n",
              "      background-color: #E2EBFA;\n",
              "      box-shadow: 0px 1px 2px rgba(60, 64, 67, 0.3), 0px 1px 3px 1px rgba(60, 64, 67, 0.15);\n",
              "      fill: #174EA6;\n",
              "    }\n",
              "\n",
              "    [theme=dark] .colab-df-convert {\n",
              "      background-color: #3B4455;\n",
              "      fill: #D2E3FC;\n",
              "    }\n",
              "\n",
              "    [theme=dark] .colab-df-convert:hover {\n",
              "      background-color: #434B5C;\n",
              "      box-shadow: 0px 1px 3px 1px rgba(0, 0, 0, 0.15);\n",
              "      filter: drop-shadow(0px 1px 2px rgba(0, 0, 0, 0.3));\n",
              "      fill: #FFFFFF;\n",
              "    }\n",
              "  </style>\n",
              "\n",
              "      <script>\n",
              "        const buttonEl =\n",
              "          document.querySelector('#df-802774c9-bfac-4b6b-b839-601f5e5092a7 button.colab-df-convert');\n",
              "        buttonEl.style.display =\n",
              "          google.colab.kernel.accessAllowed ? 'block' : 'none';\n",
              "\n",
              "        async function convertToInteractive(key) {\n",
              "          const element = document.querySelector('#df-802774c9-bfac-4b6b-b839-601f5e5092a7');\n",
              "          const dataTable =\n",
              "            await google.colab.kernel.invokeFunction('convertToInteractive',\n",
              "                                                     [key], {});\n",
              "          if (!dataTable) return;\n",
              "\n",
              "          const docLinkHtml = 'Like what you see? Visit the ' +\n",
              "            '<a target=\"_blank\" href=https://colab.research.google.com/notebooks/data_table.ipynb>data table notebook</a>'\n",
              "            + ' to learn more about interactive tables.';\n",
              "          element.innerHTML = '';\n",
              "          dataTable['output_type'] = 'display_data';\n",
              "          await google.colab.output.renderOutput(dataTable, element);\n",
              "          const docLink = document.createElement('div');\n",
              "          docLink.innerHTML = docLinkHtml;\n",
              "          element.appendChild(docLink);\n",
              "        }\n",
              "      </script>\n",
              "    </div>\n",
              "  </div>\n",
              "  "
            ]
          },
          "metadata": {},
          "execution_count": 15
        }
      ]
    },
    {
      "cell_type": "code",
      "source": [
        "# import plotly.express as px\n",
        "# import plotly.graph_objs as go\n",
        "\n",
        "fig = go.Figure(data=go.Scatter(x=hiphop_listens['year_created'].astype(dtype=str), \n",
        "                        y=hiphop_listens['listens'],\n",
        "                        marker_color='indianred'))\n",
        "fig.update_layout({\"title\": 'Hip-Hop was at its most popular during 2010',\n",
        "                   \"xaxis\": {\"title\":\"Years\"},\n",
        "                   \"yaxis\": {\"title\":\"Total Listens\"},\n",
        "                   \"showlegend\": False})\n",
        "fig.show()"
      ],
      "metadata": {
        "colab": {
          "base_uri": "https://localhost:8080/"
        },
        "id": "0mYKCyd5zcXu",
        "outputId": "b87c78e7-90ce-4524-9418-3cbc83dea68f"
      },
      "execution_count": null,
      "outputs": [
        {
          "output_type": "display_data",
          "data": {
            "text/html": [
              "<html>\n",
              "<head><meta charset=\"utf-8\" /></head>\n",
              "<body>\n",
              "    <div>            <script src=\"https://cdnjs.cloudflare.com/ajax/libs/mathjax/2.7.5/MathJax.js?config=TeX-AMS-MML_SVG\"></script><script type=\"text/javascript\">if (window.MathJax) {MathJax.Hub.Config({SVG: {font: \"STIX-Web\"}});}</script>                <script type=\"text/javascript\">window.PlotlyConfig = {MathJaxConfig: 'local'};</script>\n",
              "        <script src=\"https://cdn.plot.ly/plotly-2.8.3.min.js\"></script>                <div id=\"a0a54bd7-367d-4d27-a295-cbe342c9fa13\" class=\"plotly-graph-div\" style=\"height:525px; width:100%;\"></div>            <script type=\"text/javascript\">                                    window.PLOTLYENV=window.PLOTLYENV || {};                                    if (document.getElementById(\"a0a54bd7-367d-4d27-a295-cbe342c9fa13\")) {                    Plotly.newPlot(                        \"a0a54bd7-367d-4d27-a295-cbe342c9fa13\",                        [{\"marker\":{\"color\":\"indianred\"},\"x\":[\"2008\",\"2009\",\"2010\",\"2011\",\"2012\",\"2013\",\"2014\",\"2015\",\"2016\",\"2017\"],\"y\":[42788,822429,1074595,368829,815967,587444,843072,642169,633505,108066],\"type\":\"scatter\"}],                        {\"template\":{\"data\":{\"bar\":[{\"error_x\":{\"color\":\"#2a3f5f\"},\"error_y\":{\"color\":\"#2a3f5f\"},\"marker\":{\"line\":{\"color\":\"#E5ECF6\",\"width\":0.5},\"pattern\":{\"fillmode\":\"overlay\",\"size\":10,\"solidity\":0.2}},\"type\":\"bar\"}],\"barpolar\":[{\"marker\":{\"line\":{\"color\":\"#E5ECF6\",\"width\":0.5},\"pattern\":{\"fillmode\":\"overlay\",\"size\":10,\"solidity\":0.2}},\"type\":\"barpolar\"}],\"carpet\":[{\"aaxis\":{\"endlinecolor\":\"#2a3f5f\",\"gridcolor\":\"white\",\"linecolor\":\"white\",\"minorgridcolor\":\"white\",\"startlinecolor\":\"#2a3f5f\"},\"baxis\":{\"endlinecolor\":\"#2a3f5f\",\"gridcolor\":\"white\",\"linecolor\":\"white\",\"minorgridcolor\":\"white\",\"startlinecolor\":\"#2a3f5f\"},\"type\":\"carpet\"}],\"choropleth\":[{\"colorbar\":{\"outlinewidth\":0,\"ticks\":\"\"},\"type\":\"choropleth\"}],\"contour\":[{\"colorbar\":{\"outlinewidth\":0,\"ticks\":\"\"},\"colorscale\":[[0.0,\"#0d0887\"],[0.1111111111111111,\"#46039f\"],[0.2222222222222222,\"#7201a8\"],[0.3333333333333333,\"#9c179e\"],[0.4444444444444444,\"#bd3786\"],[0.5555555555555556,\"#d8576b\"],[0.6666666666666666,\"#ed7953\"],[0.7777777777777778,\"#fb9f3a\"],[0.8888888888888888,\"#fdca26\"],[1.0,\"#f0f921\"]],\"type\":\"contour\"}],\"contourcarpet\":[{\"colorbar\":{\"outlinewidth\":0,\"ticks\":\"\"},\"type\":\"contourcarpet\"}],\"heatmap\":[{\"colorbar\":{\"outlinewidth\":0,\"ticks\":\"\"},\"colorscale\":[[0.0,\"#0d0887\"],[0.1111111111111111,\"#46039f\"],[0.2222222222222222,\"#7201a8\"],[0.3333333333333333,\"#9c179e\"],[0.4444444444444444,\"#bd3786\"],[0.5555555555555556,\"#d8576b\"],[0.6666666666666666,\"#ed7953\"],[0.7777777777777778,\"#fb9f3a\"],[0.8888888888888888,\"#fdca26\"],[1.0,\"#f0f921\"]],\"type\":\"heatmap\"}],\"heatmapgl\":[{\"colorbar\":{\"outlinewidth\":0,\"ticks\":\"\"},\"colorscale\":[[0.0,\"#0d0887\"],[0.1111111111111111,\"#46039f\"],[0.2222222222222222,\"#7201a8\"],[0.3333333333333333,\"#9c179e\"],[0.4444444444444444,\"#bd3786\"],[0.5555555555555556,\"#d8576b\"],[0.6666666666666666,\"#ed7953\"],[0.7777777777777778,\"#fb9f3a\"],[0.8888888888888888,\"#fdca26\"],[1.0,\"#f0f921\"]],\"type\":\"heatmapgl\"}],\"histogram\":[{\"marker\":{\"pattern\":{\"fillmode\":\"overlay\",\"size\":10,\"solidity\":0.2}},\"type\":\"histogram\"}],\"histogram2d\":[{\"colorbar\":{\"outlinewidth\":0,\"ticks\":\"\"},\"colorscale\":[[0.0,\"#0d0887\"],[0.1111111111111111,\"#46039f\"],[0.2222222222222222,\"#7201a8\"],[0.3333333333333333,\"#9c179e\"],[0.4444444444444444,\"#bd3786\"],[0.5555555555555556,\"#d8576b\"],[0.6666666666666666,\"#ed7953\"],[0.7777777777777778,\"#fb9f3a\"],[0.8888888888888888,\"#fdca26\"],[1.0,\"#f0f921\"]],\"type\":\"histogram2d\"}],\"histogram2dcontour\":[{\"colorbar\":{\"outlinewidth\":0,\"ticks\":\"\"},\"colorscale\":[[0.0,\"#0d0887\"],[0.1111111111111111,\"#46039f\"],[0.2222222222222222,\"#7201a8\"],[0.3333333333333333,\"#9c179e\"],[0.4444444444444444,\"#bd3786\"],[0.5555555555555556,\"#d8576b\"],[0.6666666666666666,\"#ed7953\"],[0.7777777777777778,\"#fb9f3a\"],[0.8888888888888888,\"#fdca26\"],[1.0,\"#f0f921\"]],\"type\":\"histogram2dcontour\"}],\"mesh3d\":[{\"colorbar\":{\"outlinewidth\":0,\"ticks\":\"\"},\"type\":\"mesh3d\"}],\"parcoords\":[{\"line\":{\"colorbar\":{\"outlinewidth\":0,\"ticks\":\"\"}},\"type\":\"parcoords\"}],\"pie\":[{\"automargin\":true,\"type\":\"pie\"}],\"scatter\":[{\"marker\":{\"colorbar\":{\"outlinewidth\":0,\"ticks\":\"\"}},\"type\":\"scatter\"}],\"scatter3d\":[{\"line\":{\"colorbar\":{\"outlinewidth\":0,\"ticks\":\"\"}},\"marker\":{\"colorbar\":{\"outlinewidth\":0,\"ticks\":\"\"}},\"type\":\"scatter3d\"}],\"scattercarpet\":[{\"marker\":{\"colorbar\":{\"outlinewidth\":0,\"ticks\":\"\"}},\"type\":\"scattercarpet\"}],\"scattergeo\":[{\"marker\":{\"colorbar\":{\"outlinewidth\":0,\"ticks\":\"\"}},\"type\":\"scattergeo\"}],\"scattergl\":[{\"marker\":{\"colorbar\":{\"outlinewidth\":0,\"ticks\":\"\"}},\"type\":\"scattergl\"}],\"scattermapbox\":[{\"marker\":{\"colorbar\":{\"outlinewidth\":0,\"ticks\":\"\"}},\"type\":\"scattermapbox\"}],\"scatterpolar\":[{\"marker\":{\"colorbar\":{\"outlinewidth\":0,\"ticks\":\"\"}},\"type\":\"scatterpolar\"}],\"scatterpolargl\":[{\"marker\":{\"colorbar\":{\"outlinewidth\":0,\"ticks\":\"\"}},\"type\":\"scatterpolargl\"}],\"scatterternary\":[{\"marker\":{\"colorbar\":{\"outlinewidth\":0,\"ticks\":\"\"}},\"type\":\"scatterternary\"}],\"surface\":[{\"colorbar\":{\"outlinewidth\":0,\"ticks\":\"\"},\"colorscale\":[[0.0,\"#0d0887\"],[0.1111111111111111,\"#46039f\"],[0.2222222222222222,\"#7201a8\"],[0.3333333333333333,\"#9c179e\"],[0.4444444444444444,\"#bd3786\"],[0.5555555555555556,\"#d8576b\"],[0.6666666666666666,\"#ed7953\"],[0.7777777777777778,\"#fb9f3a\"],[0.8888888888888888,\"#fdca26\"],[1.0,\"#f0f921\"]],\"type\":\"surface\"}],\"table\":[{\"cells\":{\"fill\":{\"color\":\"#EBF0F8\"},\"line\":{\"color\":\"white\"}},\"header\":{\"fill\":{\"color\":\"#C8D4E3\"},\"line\":{\"color\":\"white\"}},\"type\":\"table\"}]},\"layout\":{\"annotationdefaults\":{\"arrowcolor\":\"#2a3f5f\",\"arrowhead\":0,\"arrowwidth\":1},\"autotypenumbers\":\"strict\",\"coloraxis\":{\"colorbar\":{\"outlinewidth\":0,\"ticks\":\"\"}},\"colorscale\":{\"diverging\":[[0,\"#8e0152\"],[0.1,\"#c51b7d\"],[0.2,\"#de77ae\"],[0.3,\"#f1b6da\"],[0.4,\"#fde0ef\"],[0.5,\"#f7f7f7\"],[0.6,\"#e6f5d0\"],[0.7,\"#b8e186\"],[0.8,\"#7fbc41\"],[0.9,\"#4d9221\"],[1,\"#276419\"]],\"sequential\":[[0.0,\"#0d0887\"],[0.1111111111111111,\"#46039f\"],[0.2222222222222222,\"#7201a8\"],[0.3333333333333333,\"#9c179e\"],[0.4444444444444444,\"#bd3786\"],[0.5555555555555556,\"#d8576b\"],[0.6666666666666666,\"#ed7953\"],[0.7777777777777778,\"#fb9f3a\"],[0.8888888888888888,\"#fdca26\"],[1.0,\"#f0f921\"]],\"sequentialminus\":[[0.0,\"#0d0887\"],[0.1111111111111111,\"#46039f\"],[0.2222222222222222,\"#7201a8\"],[0.3333333333333333,\"#9c179e\"],[0.4444444444444444,\"#bd3786\"],[0.5555555555555556,\"#d8576b\"],[0.6666666666666666,\"#ed7953\"],[0.7777777777777778,\"#fb9f3a\"],[0.8888888888888888,\"#fdca26\"],[1.0,\"#f0f921\"]]},\"colorway\":[\"#636efa\",\"#EF553B\",\"#00cc96\",\"#ab63fa\",\"#FFA15A\",\"#19d3f3\",\"#FF6692\",\"#B6E880\",\"#FF97FF\",\"#FECB52\"],\"font\":{\"color\":\"#2a3f5f\"},\"geo\":{\"bgcolor\":\"white\",\"lakecolor\":\"white\",\"landcolor\":\"#E5ECF6\",\"showlakes\":true,\"showland\":true,\"subunitcolor\":\"white\"},\"hoverlabel\":{\"align\":\"left\"},\"hovermode\":\"closest\",\"mapbox\":{\"style\":\"light\"},\"paper_bgcolor\":\"white\",\"plot_bgcolor\":\"#E5ECF6\",\"polar\":{\"angularaxis\":{\"gridcolor\":\"white\",\"linecolor\":\"white\",\"ticks\":\"\"},\"bgcolor\":\"#E5ECF6\",\"radialaxis\":{\"gridcolor\":\"white\",\"linecolor\":\"white\",\"ticks\":\"\"}},\"scene\":{\"xaxis\":{\"backgroundcolor\":\"#E5ECF6\",\"gridcolor\":\"white\",\"gridwidth\":2,\"linecolor\":\"white\",\"showbackground\":true,\"ticks\":\"\",\"zerolinecolor\":\"white\"},\"yaxis\":{\"backgroundcolor\":\"#E5ECF6\",\"gridcolor\":\"white\",\"gridwidth\":2,\"linecolor\":\"white\",\"showbackground\":true,\"ticks\":\"\",\"zerolinecolor\":\"white\"},\"zaxis\":{\"backgroundcolor\":\"#E5ECF6\",\"gridcolor\":\"white\",\"gridwidth\":2,\"linecolor\":\"white\",\"showbackground\":true,\"ticks\":\"\",\"zerolinecolor\":\"white\"}},\"shapedefaults\":{\"line\":{\"color\":\"#2a3f5f\"}},\"ternary\":{\"aaxis\":{\"gridcolor\":\"white\",\"linecolor\":\"white\",\"ticks\":\"\"},\"baxis\":{\"gridcolor\":\"white\",\"linecolor\":\"white\",\"ticks\":\"\"},\"bgcolor\":\"#E5ECF6\",\"caxis\":{\"gridcolor\":\"white\",\"linecolor\":\"white\",\"ticks\":\"\"}},\"title\":{\"x\":0.05},\"xaxis\":{\"automargin\":true,\"gridcolor\":\"white\",\"linecolor\":\"white\",\"ticks\":\"\",\"title\":{\"standoff\":15},\"zerolinecolor\":\"white\",\"zerolinewidth\":2},\"yaxis\":{\"automargin\":true,\"gridcolor\":\"white\",\"linecolor\":\"white\",\"ticks\":\"\",\"title\":{\"standoff\":15},\"zerolinecolor\":\"white\",\"zerolinewidth\":2}}},\"title\":{\"text\":\"Hip-Hop was at its most popular during 2010\"},\"xaxis\":{\"title\":{\"text\":\"Years\"}},\"yaxis\":{\"title\":{\"text\":\"Total Listens\"}},\"showlegend\":false},                        {\"responsive\": true}                    ).then(function(){\n",
              "                            \n",
              "var gd = document.getElementById('a0a54bd7-367d-4d27-a295-cbe342c9fa13');\n",
              "var x = new MutationObserver(function (mutations, observer) {{\n",
              "        var display = window.getComputedStyle(gd).display;\n",
              "        if (!display || display === 'none') {{\n",
              "            console.log([gd, 'removed!']);\n",
              "            Plotly.purge(gd);\n",
              "            observer.disconnect();\n",
              "        }}\n",
              "}});\n",
              "\n",
              "// Listen for the removal of the full notebook cells\n",
              "var notebookContainer = gd.closest('#notebook-container');\n",
              "if (notebookContainer) {{\n",
              "    x.observe(notebookContainer, {childList: true});\n",
              "}}\n",
              "\n",
              "// Listen for the clearing of the current output cell\n",
              "var outputEl = gd.closest('.output');\n",
              "if (outputEl) {{\n",
              "    x.observe(outputEl, {childList: true});\n",
              "}}\n",
              "\n",
              "                        })                };                            </script>        </div>\n",
              "</body>\n",
              "</html>"
            ]
          },
          "metadata": {}
        }
      ]
    },
    {
      "cell_type": "markdown",
      "source": [
        "### How many listens for each genre across the years?"
      ],
      "metadata": {
        "id": "7nCbCTLpzQR0"
      }
    },
    {
      "cell_type": "code",
      "source": [
        "len(track_df[['genre_top', 'year_created', 'listens']])"
      ],
      "metadata": {
        "colab": {
          "base_uri": "https://localhost:8080/"
        },
        "id": "84YeBgS71ngn",
        "outputId": "3ce300b6-9312-437c-c132-60283fe75fc5"
      },
      "execution_count": null,
      "outputs": [
        {
          "output_type": "execute_result",
          "data": {
            "text/plain": [
              "106574"
            ]
          },
          "metadata": {},
          "execution_count": 166
        }
      ]
    },
    {
      "cell_type": "code",
      "source": [
        "curr_df = track_df[['genre_top', 'year_created', 'listens']].copy()\n",
        "# curr_df = curr_df.dropna()\n",
        "\n",
        "curr_df['genre_top'] = curr_df['genre_top'].astype('str')\n",
        "curr_df['genre_top'] = curr_df['genre_top'].replace(\"nan\", \"Mixed\")\n",
        "len(curr_df)"
      ],
      "metadata": {
        "colab": {
          "base_uri": "https://localhost:8080/"
        },
        "id": "mAv6qoAM2K28",
        "outputId": "09e2bb75-c7c6-4882-974b-14bba7616ec2"
      },
      "execution_count": null,
      "outputs": [
        {
          "output_type": "execute_result",
          "data": {
            "text/plain": [
              "106574"
            ]
          },
          "metadata": {},
          "execution_count": 167
        }
      ]
    },
    {
      "cell_type": "code",
      "source": [
        "all_listens  = curr_df.groupby([\n",
        "    'genre_top',\n",
        "    'year_created',\n",
        "]).sum()\n",
        "\n",
        "all_listens = all_listens.reset_index()"
      ],
      "metadata": {
        "id": "Ixl_6ad9zDTS"
      },
      "execution_count": null,
      "outputs": []
    },
    {
      "cell_type": "code",
      "source": [
        "import inspect\n",
        "\n",
        "inspect.getfullargspec(fig.update_layout)"
      ],
      "metadata": {
        "colab": {
          "base_uri": "https://localhost:8080/"
        },
        "id": "udwzcBVarsnp",
        "outputId": "bddea38d-bd85-47ff-9d18-81d6ef1d3580"
      },
      "execution_count": null,
      "outputs": [
        {
          "output_type": "execute_result",
          "data": {
            "text/plain": [
              "FullArgSpec(args=['self', 'dict1', 'overwrite'], varargs=None, varkw='kwargs', defaults=(None, False), kwonlyargs=[], kwonlydefaults=None, annotations={})"
            ]
          },
          "metadata": {},
          "execution_count": 70
        }
      ]
    },
    {
      "cell_type": "code",
      "source": [
        "fig = px.scatter(all_listens, x=\"year_created\", y=\"listens\", color=\"genre_top\")\n",
        "\n",
        "fig.update_layout(\n",
        "    title=\"Music That Cannot Be Classified With One Genre Has Been Ruling\",\n",
        "    xaxis=dict(title=\"Year\"),\n",
        "    yaxis=dict(title=\"Listens\"),\n",
        "    font_family=\"Arial\",\n",
        "    font_color=\"gray\",\n",
        "    title_font=dict(family=\"Arial\",\n",
        "                    size=24,\n",
        "                    color=\"black\"),\n",
        "    legend_title_font_color=\"black\",\n",
        "    annotations=[dict(text=\"Look Here\", x=2012, y=3_500_000)]\n",
        "    \n",
        ")\n",
        "fig.update_xaxes(title_font_family=\"Arial\")\n",
        "\n",
        "\n",
        "fig.show()"
      ],
      "metadata": {
        "colab": {
          "base_uri": "https://localhost:8080/"
        },
        "id": "meYaMyQwyuwj",
        "outputId": "dfe5b118-c128-40f0-eb5d-c95d9564e3f1"
      },
      "execution_count": null,
      "outputs": [
        {
          "output_type": "display_data",
          "data": {
            "text/html": [
              "<html>\n",
              "<head><meta charset=\"utf-8\" /></head>\n",
              "<body>\n",
              "    <div>            <script src=\"https://cdnjs.cloudflare.com/ajax/libs/mathjax/2.7.5/MathJax.js?config=TeX-AMS-MML_SVG\"></script><script type=\"text/javascript\">if (window.MathJax) {MathJax.Hub.Config({SVG: {font: \"STIX-Web\"}});}</script>                <script type=\"text/javascript\">window.PlotlyConfig = {MathJaxConfig: 'local'};</script>\n",
              "        <script src=\"https://cdn.plot.ly/plotly-2.8.3.min.js\"></script>                <div id=\"4605267e-032e-4d31-b4ca-a69be9f4d804\" class=\"plotly-graph-div\" style=\"height:525px; width:100%;\"></div>            <script type=\"text/javascript\">                                    window.PLOTLYENV=window.PLOTLYENV || {};                                    if (document.getElementById(\"4605267e-032e-4d31-b4ca-a69be9f4d804\")) {                    Plotly.newPlot(                        \"4605267e-032e-4d31-b4ca-a69be9f4d804\",                        [{\"hovertemplate\":\"genre_top=Blues<br>year_created=%{x}<br>listens=%{y}<extra></extra>\",\"legendgroup\":\"Blues\",\"marker\":{\"color\":\"#636efa\",\"symbol\":\"circle\"},\"mode\":\"markers\",\"name\":\"Blues\",\"orientation\":\"v\",\"showlegend\":true,\"x\":[2008,2009,2010,2011,2012,2013,2015,2016],\"xaxis\":\"x\",\"y\":[52310,77112,32593,437317,168077,23802,120345,24404],\"yaxis\":\"y\",\"type\":\"scatter\"},{\"hovertemplate\":\"genre_top=Classical<br>year_created=%{x}<br>listens=%{y}<extra></extra>\",\"legendgroup\":\"Classical\",\"marker\":{\"color\":\"#EF553B\",\"symbol\":\"circle\"},\"mode\":\"markers\",\"name\":\"Classical\",\"orientation\":\"v\",\"showlegend\":true,\"x\":[2009,2010,2011,2012,2013,2014,2015,2016,2017],\"xaxis\":\"x\",\"y\":[946301,871689,2392047,1317177,358448,73710,504131,267863,23271],\"yaxis\":\"y\",\"type\":\"scatter\"},{\"hovertemplate\":\"genre_top=Country<br>year_created=%{x}<br>listens=%{y}<extra></extra>\",\"legendgroup\":\"Country\",\"marker\":{\"color\":\"#00cc96\",\"symbol\":\"circle\"},\"mode\":\"markers\",\"name\":\"Country\",\"orientation\":\"v\",\"showlegend\":true,\"x\":[2008,2009,2012,2013,2015,2016],\"xaxis\":\"x\",\"y\":[83035,111624,99168,47803,118078,16346],\"yaxis\":\"y\",\"type\":\"scatter\"},{\"hovertemplate\":\"genre_top=Easy Listening<br>year_created=%{x}<br>listens=%{y}<extra></extra>\",\"legendgroup\":\"Easy Listening\",\"marker\":{\"color\":\"#ab63fa\",\"symbol\":\"circle\"},\"mode\":\"markers\",\"name\":\"Easy Listening\",\"orientation\":\"v\",\"showlegend\":true,\"x\":[2009,2010,2011,2012,2013,2015,2016],\"xaxis\":\"x\",\"y\":[2140,2769,28933,1823,7210,6730,5204],\"yaxis\":\"y\",\"type\":\"scatter\"},{\"hovertemplate\":\"genre_top=Electronic<br>year_created=%{x}<br>listens=%{y}<extra></extra>\",\"legendgroup\":\"Electronic\",\"marker\":{\"color\":\"#FFA15A\",\"symbol\":\"circle\"},\"mode\":\"markers\",\"name\":\"Electronic\",\"orientation\":\"v\",\"showlegend\":true,\"x\":[2008,2009,2010,2011,2012,2013,2014,2015,2016,2017],\"xaxis\":\"x\",\"y\":[314661,1205003,2943291,3053396,3393379,2696580,2243999,2268242,2446453,287519],\"yaxis\":\"y\",\"type\":\"scatter\"},{\"hovertemplate\":\"genre_top=Experimental<br>year_created=%{x}<br>listens=%{y}<extra></extra>\",\"legendgroup\":\"Experimental\",\"marker\":{\"color\":\"#19d3f3\",\"symbol\":\"circle\"},\"mode\":\"markers\",\"name\":\"Experimental\",\"orientation\":\"v\",\"showlegend\":true,\"x\":[2008,2009,2010,2011,2012,2013,2014,2015,2016,2017],\"xaxis\":\"x\",\"y\":[227712,672128,938919,839594,670935,825173,551794,759184,401317,62864],\"yaxis\":\"y\",\"type\":\"scatter\"},{\"hovertemplate\":\"genre_top=Folk<br>year_created=%{x}<br>listens=%{y}<extra></extra>\",\"legendgroup\":\"Folk\",\"marker\":{\"color\":\"#FF6692\",\"symbol\":\"circle\"},\"mode\":\"markers\",\"name\":\"Folk\",\"orientation\":\"v\",\"showlegend\":true,\"x\":[2008,2009,2010,2011,2012,2013,2014,2015,2016,2017],\"xaxis\":\"x\",\"y\":[151099,386865,321674,301738,278552,366377,204606,321344,418641,25565],\"yaxis\":\"y\",\"type\":\"scatter\"},{\"hovertemplate\":\"genre_top=Hip-Hop<br>year_created=%{x}<br>listens=%{y}<extra></extra>\",\"legendgroup\":\"Hip-Hop\",\"marker\":{\"color\":\"#B6E880\",\"symbol\":\"circle\"},\"mode\":\"markers\",\"name\":\"Hip-Hop\",\"orientation\":\"v\",\"showlegend\":true,\"x\":[2008,2009,2010,2011,2012,2013,2014,2015,2016,2017],\"xaxis\":\"x\",\"y\":[42788,822429,1074595,368829,815967,587444,843072,642169,633505,108066],\"yaxis\":\"y\",\"type\":\"scatter\"},{\"hovertemplate\":\"genre_top=Instrumental<br>year_created=%{x}<br>listens=%{y}<extra></extra>\",\"legendgroup\":\"Instrumental\",\"marker\":{\"color\":\"#FF97FF\",\"symbol\":\"circle\"},\"mode\":\"markers\",\"name\":\"Instrumental\",\"orientation\":\"v\",\"showlegend\":true,\"x\":[2009,2010,2011,2012,2013,2014,2015,2016,2017],\"xaxis\":\"x\",\"y\":[241288,228537,559977,395381,1607900,1217175,2563467,1921425,112545],\"yaxis\":\"y\",\"type\":\"scatter\"},{\"hovertemplate\":\"genre_top=International<br>year_created=%{x}<br>listens=%{y}<extra></extra>\",\"legendgroup\":\"International\",\"marker\":{\"color\":\"#FECB52\",\"symbol\":\"circle\"},\"mode\":\"markers\",\"name\":\"International\",\"orientation\":\"v\",\"showlegend\":true,\"x\":[2008,2009,2010,2011,2012,2013,2014,2015,2016,2017],\"xaxis\":\"x\",\"y\":[177338,359549,673581,1048727,844787,323449,194784,399980,205969,17494],\"yaxis\":\"y\",\"type\":\"scatter\"},{\"hovertemplate\":\"genre_top=Jazz<br>year_created=%{x}<br>listens=%{y}<extra></extra>\",\"legendgroup\":\"Jazz\",\"marker\":{\"color\":\"#636efa\",\"symbol\":\"circle\"},\"mode\":\"markers\",\"name\":\"Jazz\",\"orientation\":\"v\",\"showlegend\":true,\"x\":[2008,2009,2010,2011,2012,2013,2014,2015,2016,2017],\"xaxis\":\"x\",\"y\":[96230,560158,263115,308461,482263,163897,3897,94927,67302,8548],\"yaxis\":\"y\",\"type\":\"scatter\"},{\"hovertemplate\":\"genre_top=Mixed<br>year_created=%{x}<br>listens=%{y}<extra></extra>\",\"legendgroup\":\"Mixed\",\"marker\":{\"color\":\"#EF553B\",\"symbol\":\"circle\"},\"mode\":\"markers\",\"name\":\"Mixed\",\"orientation\":\"v\",\"showlegend\":true,\"x\":[2008,2009,2010,2011,2012,2013,2014,2015,2016,2017],\"xaxis\":\"x\",\"y\":[374062,7787928,13041042,16238144,23770552,29652800,20158713,26849380,28956496,2740693],\"yaxis\":\"y\",\"type\":\"scatter\"},{\"hovertemplate\":\"genre_top=Old-Time / Historic<br>year_created=%{x}<br>listens=%{y}<extra></extra>\",\"legendgroup\":\"Old-Time / Historic\",\"marker\":{\"color\":\"#00cc96\",\"symbol\":\"circle\"},\"mode\":\"markers\",\"name\":\"Old-Time / Historic\",\"orientation\":\"v\",\"showlegend\":true,\"x\":[2009,2010,2011,2012,2015,2016],\"xaxis\":\"x\",\"y\":[450218,206961,166593,452085,605599,343957],\"yaxis\":\"y\",\"type\":\"scatter\"},{\"hovertemplate\":\"genre_top=Pop<br>year_created=%{x}<br>listens=%{y}<extra></extra>\",\"legendgroup\":\"Pop\",\"marker\":{\"color\":\"#ab63fa\",\"symbol\":\"circle\"},\"mode\":\"markers\",\"name\":\"Pop\",\"orientation\":\"v\",\"showlegend\":true,\"x\":[2008,2009,2010,2011,2012,2013,2014,2015,2016,2017],\"xaxis\":\"x\",\"y\":[83605,351551,205168,407806,511585,325489,152840,804787,337227,41144],\"yaxis\":\"y\",\"type\":\"scatter\"},{\"hovertemplate\":\"genre_top=Rock<br>year_created=%{x}<br>listens=%{y}<extra></extra>\",\"legendgroup\":\"Rock\",\"marker\":{\"color\":\"#FFA15A\",\"symbol\":\"circle\"},\"mode\":\"markers\",\"name\":\"Rock\",\"orientation\":\"v\",\"showlegend\":true,\"x\":[2008,2009,2010,2011,2012,2013,2014,2015,2016,2017],\"xaxis\":\"x\",\"y\":[724411,1428632,968115,1499336,1665321,1849641,1192122,1953767,1718494,208866],\"yaxis\":\"y\",\"type\":\"scatter\"},{\"hovertemplate\":\"genre_top=Soul-RnB<br>year_created=%{x}<br>listens=%{y}<extra></extra>\",\"legendgroup\":\"Soul-RnB\",\"marker\":{\"color\":\"#19d3f3\",\"symbol\":\"circle\"},\"mode\":\"markers\",\"name\":\"Soul-RnB\",\"orientation\":\"v\",\"showlegend\":true,\"x\":[2008,2009,2010,2011,2012,2013,2015,2016],\"xaxis\":\"x\",\"y\":[62104,16547,87448,155297,89810,163777,147215,6386],\"yaxis\":\"y\",\"type\":\"scatter\"},{\"hovertemplate\":\"genre_top=Spoken<br>year_created=%{x}<br>listens=%{y}<extra></extra>\",\"legendgroup\":\"Spoken\",\"marker\":{\"color\":\"#FF6692\",\"symbol\":\"circle\"},\"mode\":\"markers\",\"name\":\"Spoken\",\"orientation\":\"v\",\"showlegend\":true,\"x\":[2008,2009,2010,2011,2012,2013,2014,2015,2016],\"xaxis\":\"x\",\"y\":[16835,39165,34382,47978,50113,46887,49069,101093,28210],\"yaxis\":\"y\",\"type\":\"scatter\"}],                        {\"template\":{\"data\":{\"bar\":[{\"error_x\":{\"color\":\"#2a3f5f\"},\"error_y\":{\"color\":\"#2a3f5f\"},\"marker\":{\"line\":{\"color\":\"#E5ECF6\",\"width\":0.5},\"pattern\":{\"fillmode\":\"overlay\",\"size\":10,\"solidity\":0.2}},\"type\":\"bar\"}],\"barpolar\":[{\"marker\":{\"line\":{\"color\":\"#E5ECF6\",\"width\":0.5},\"pattern\":{\"fillmode\":\"overlay\",\"size\":10,\"solidity\":0.2}},\"type\":\"barpolar\"}],\"carpet\":[{\"aaxis\":{\"endlinecolor\":\"#2a3f5f\",\"gridcolor\":\"white\",\"linecolor\":\"white\",\"minorgridcolor\":\"white\",\"startlinecolor\":\"#2a3f5f\"},\"baxis\":{\"endlinecolor\":\"#2a3f5f\",\"gridcolor\":\"white\",\"linecolor\":\"white\",\"minorgridcolor\":\"white\",\"startlinecolor\":\"#2a3f5f\"},\"type\":\"carpet\"}],\"choropleth\":[{\"colorbar\":{\"outlinewidth\":0,\"ticks\":\"\"},\"type\":\"choropleth\"}],\"contour\":[{\"colorbar\":{\"outlinewidth\":0,\"ticks\":\"\"},\"colorscale\":[[0.0,\"#0d0887\"],[0.1111111111111111,\"#46039f\"],[0.2222222222222222,\"#7201a8\"],[0.3333333333333333,\"#9c179e\"],[0.4444444444444444,\"#bd3786\"],[0.5555555555555556,\"#d8576b\"],[0.6666666666666666,\"#ed7953\"],[0.7777777777777778,\"#fb9f3a\"],[0.8888888888888888,\"#fdca26\"],[1.0,\"#f0f921\"]],\"type\":\"contour\"}],\"contourcarpet\":[{\"colorbar\":{\"outlinewidth\":0,\"ticks\":\"\"},\"type\":\"contourcarpet\"}],\"heatmap\":[{\"colorbar\":{\"outlinewidth\":0,\"ticks\":\"\"},\"colorscale\":[[0.0,\"#0d0887\"],[0.1111111111111111,\"#46039f\"],[0.2222222222222222,\"#7201a8\"],[0.3333333333333333,\"#9c179e\"],[0.4444444444444444,\"#bd3786\"],[0.5555555555555556,\"#d8576b\"],[0.6666666666666666,\"#ed7953\"],[0.7777777777777778,\"#fb9f3a\"],[0.8888888888888888,\"#fdca26\"],[1.0,\"#f0f921\"]],\"type\":\"heatmap\"}],\"heatmapgl\":[{\"colorbar\":{\"outlinewidth\":0,\"ticks\":\"\"},\"colorscale\":[[0.0,\"#0d0887\"],[0.1111111111111111,\"#46039f\"],[0.2222222222222222,\"#7201a8\"],[0.3333333333333333,\"#9c179e\"],[0.4444444444444444,\"#bd3786\"],[0.5555555555555556,\"#d8576b\"],[0.6666666666666666,\"#ed7953\"],[0.7777777777777778,\"#fb9f3a\"],[0.8888888888888888,\"#fdca26\"],[1.0,\"#f0f921\"]],\"type\":\"heatmapgl\"}],\"histogram\":[{\"marker\":{\"pattern\":{\"fillmode\":\"overlay\",\"size\":10,\"solidity\":0.2}},\"type\":\"histogram\"}],\"histogram2d\":[{\"colorbar\":{\"outlinewidth\":0,\"ticks\":\"\"},\"colorscale\":[[0.0,\"#0d0887\"],[0.1111111111111111,\"#46039f\"],[0.2222222222222222,\"#7201a8\"],[0.3333333333333333,\"#9c179e\"],[0.4444444444444444,\"#bd3786\"],[0.5555555555555556,\"#d8576b\"],[0.6666666666666666,\"#ed7953\"],[0.7777777777777778,\"#fb9f3a\"],[0.8888888888888888,\"#fdca26\"],[1.0,\"#f0f921\"]],\"type\":\"histogram2d\"}],\"histogram2dcontour\":[{\"colorbar\":{\"outlinewidth\":0,\"ticks\":\"\"},\"colorscale\":[[0.0,\"#0d0887\"],[0.1111111111111111,\"#46039f\"],[0.2222222222222222,\"#7201a8\"],[0.3333333333333333,\"#9c179e\"],[0.4444444444444444,\"#bd3786\"],[0.5555555555555556,\"#d8576b\"],[0.6666666666666666,\"#ed7953\"],[0.7777777777777778,\"#fb9f3a\"],[0.8888888888888888,\"#fdca26\"],[1.0,\"#f0f921\"]],\"type\":\"histogram2dcontour\"}],\"mesh3d\":[{\"colorbar\":{\"outlinewidth\":0,\"ticks\":\"\"},\"type\":\"mesh3d\"}],\"parcoords\":[{\"line\":{\"colorbar\":{\"outlinewidth\":0,\"ticks\":\"\"}},\"type\":\"parcoords\"}],\"pie\":[{\"automargin\":true,\"type\":\"pie\"}],\"scatter\":[{\"marker\":{\"colorbar\":{\"outlinewidth\":0,\"ticks\":\"\"}},\"type\":\"scatter\"}],\"scatter3d\":[{\"line\":{\"colorbar\":{\"outlinewidth\":0,\"ticks\":\"\"}},\"marker\":{\"colorbar\":{\"outlinewidth\":0,\"ticks\":\"\"}},\"type\":\"scatter3d\"}],\"scattercarpet\":[{\"marker\":{\"colorbar\":{\"outlinewidth\":0,\"ticks\":\"\"}},\"type\":\"scattercarpet\"}],\"scattergeo\":[{\"marker\":{\"colorbar\":{\"outlinewidth\":0,\"ticks\":\"\"}},\"type\":\"scattergeo\"}],\"scattergl\":[{\"marker\":{\"colorbar\":{\"outlinewidth\":0,\"ticks\":\"\"}},\"type\":\"scattergl\"}],\"scattermapbox\":[{\"marker\":{\"colorbar\":{\"outlinewidth\":0,\"ticks\":\"\"}},\"type\":\"scattermapbox\"}],\"scatterpolar\":[{\"marker\":{\"colorbar\":{\"outlinewidth\":0,\"ticks\":\"\"}},\"type\":\"scatterpolar\"}],\"scatterpolargl\":[{\"marker\":{\"colorbar\":{\"outlinewidth\":0,\"ticks\":\"\"}},\"type\":\"scatterpolargl\"}],\"scatterternary\":[{\"marker\":{\"colorbar\":{\"outlinewidth\":0,\"ticks\":\"\"}},\"type\":\"scatterternary\"}],\"surface\":[{\"colorbar\":{\"outlinewidth\":0,\"ticks\":\"\"},\"colorscale\":[[0.0,\"#0d0887\"],[0.1111111111111111,\"#46039f\"],[0.2222222222222222,\"#7201a8\"],[0.3333333333333333,\"#9c179e\"],[0.4444444444444444,\"#bd3786\"],[0.5555555555555556,\"#d8576b\"],[0.6666666666666666,\"#ed7953\"],[0.7777777777777778,\"#fb9f3a\"],[0.8888888888888888,\"#fdca26\"],[1.0,\"#f0f921\"]],\"type\":\"surface\"}],\"table\":[{\"cells\":{\"fill\":{\"color\":\"#EBF0F8\"},\"line\":{\"color\":\"white\"}},\"header\":{\"fill\":{\"color\":\"#C8D4E3\"},\"line\":{\"color\":\"white\"}},\"type\":\"table\"}]},\"layout\":{\"annotationdefaults\":{\"arrowcolor\":\"#2a3f5f\",\"arrowhead\":0,\"arrowwidth\":1},\"autotypenumbers\":\"strict\",\"coloraxis\":{\"colorbar\":{\"outlinewidth\":0,\"ticks\":\"\"}},\"colorscale\":{\"diverging\":[[0,\"#8e0152\"],[0.1,\"#c51b7d\"],[0.2,\"#de77ae\"],[0.3,\"#f1b6da\"],[0.4,\"#fde0ef\"],[0.5,\"#f7f7f7\"],[0.6,\"#e6f5d0\"],[0.7,\"#b8e186\"],[0.8,\"#7fbc41\"],[0.9,\"#4d9221\"],[1,\"#276419\"]],\"sequential\":[[0.0,\"#0d0887\"],[0.1111111111111111,\"#46039f\"],[0.2222222222222222,\"#7201a8\"],[0.3333333333333333,\"#9c179e\"],[0.4444444444444444,\"#bd3786\"],[0.5555555555555556,\"#d8576b\"],[0.6666666666666666,\"#ed7953\"],[0.7777777777777778,\"#fb9f3a\"],[0.8888888888888888,\"#fdca26\"],[1.0,\"#f0f921\"]],\"sequentialminus\":[[0.0,\"#0d0887\"],[0.1111111111111111,\"#46039f\"],[0.2222222222222222,\"#7201a8\"],[0.3333333333333333,\"#9c179e\"],[0.4444444444444444,\"#bd3786\"],[0.5555555555555556,\"#d8576b\"],[0.6666666666666666,\"#ed7953\"],[0.7777777777777778,\"#fb9f3a\"],[0.8888888888888888,\"#fdca26\"],[1.0,\"#f0f921\"]]},\"colorway\":[\"#636efa\",\"#EF553B\",\"#00cc96\",\"#ab63fa\",\"#FFA15A\",\"#19d3f3\",\"#FF6692\",\"#B6E880\",\"#FF97FF\",\"#FECB52\"],\"font\":{\"color\":\"#2a3f5f\"},\"geo\":{\"bgcolor\":\"white\",\"lakecolor\":\"white\",\"landcolor\":\"#E5ECF6\",\"showlakes\":true,\"showland\":true,\"subunitcolor\":\"white\"},\"hoverlabel\":{\"align\":\"left\"},\"hovermode\":\"closest\",\"mapbox\":{\"style\":\"light\"},\"paper_bgcolor\":\"white\",\"plot_bgcolor\":\"#E5ECF6\",\"polar\":{\"angularaxis\":{\"gridcolor\":\"white\",\"linecolor\":\"white\",\"ticks\":\"\"},\"bgcolor\":\"#E5ECF6\",\"radialaxis\":{\"gridcolor\":\"white\",\"linecolor\":\"white\",\"ticks\":\"\"}},\"scene\":{\"xaxis\":{\"backgroundcolor\":\"#E5ECF6\",\"gridcolor\":\"white\",\"gridwidth\":2,\"linecolor\":\"white\",\"showbackground\":true,\"ticks\":\"\",\"zerolinecolor\":\"white\"},\"yaxis\":{\"backgroundcolor\":\"#E5ECF6\",\"gridcolor\":\"white\",\"gridwidth\":2,\"linecolor\":\"white\",\"showbackground\":true,\"ticks\":\"\",\"zerolinecolor\":\"white\"},\"zaxis\":{\"backgroundcolor\":\"#E5ECF6\",\"gridcolor\":\"white\",\"gridwidth\":2,\"linecolor\":\"white\",\"showbackground\":true,\"ticks\":\"\",\"zerolinecolor\":\"white\"}},\"shapedefaults\":{\"line\":{\"color\":\"#2a3f5f\"}},\"ternary\":{\"aaxis\":{\"gridcolor\":\"white\",\"linecolor\":\"white\",\"ticks\":\"\"},\"baxis\":{\"gridcolor\":\"white\",\"linecolor\":\"white\",\"ticks\":\"\"},\"bgcolor\":\"#E5ECF6\",\"caxis\":{\"gridcolor\":\"white\",\"linecolor\":\"white\",\"ticks\":\"\"}},\"title\":{\"x\":0.05},\"xaxis\":{\"automargin\":true,\"gridcolor\":\"white\",\"linecolor\":\"white\",\"ticks\":\"\",\"title\":{\"standoff\":15},\"zerolinecolor\":\"white\",\"zerolinewidth\":2},\"yaxis\":{\"automargin\":true,\"gridcolor\":\"white\",\"linecolor\":\"white\",\"ticks\":\"\",\"title\":{\"standoff\":15},\"zerolinecolor\":\"white\",\"zerolinewidth\":2}}},\"xaxis\":{\"anchor\":\"y\",\"domain\":[0.0,1.0],\"title\":{\"text\":\"Year\",\"font\":{\"family\":\"Arial\"}}},\"yaxis\":{\"anchor\":\"x\",\"domain\":[0.0,1.0],\"title\":{\"text\":\"Listens\"}},\"legend\":{\"title\":{\"text\":\"genre_top\",\"font\":{\"color\":\"black\"}},\"tracegroupgap\":0},\"margin\":{\"t\":60},\"font\":{\"family\":\"Arial\",\"color\":\"gray\"},\"title\":{\"text\":\"Music That Cannot Be Classified With One Genre Has Been Ruling\",\"font\":{\"family\":\"Arial\",\"size\":24,\"color\":\"black\"}},\"annotations\":[{\"text\":\"Look Here\",\"x\":2012,\"y\":3500000}]},                        {\"responsive\": true}                    ).then(function(){\n",
              "                            \n",
              "var gd = document.getElementById('4605267e-032e-4d31-b4ca-a69be9f4d804');\n",
              "var x = new MutationObserver(function (mutations, observer) {{\n",
              "        var display = window.getComputedStyle(gd).display;\n",
              "        if (!display || display === 'none') {{\n",
              "            console.log([gd, 'removed!']);\n",
              "            Plotly.purge(gd);\n",
              "            observer.disconnect();\n",
              "        }}\n",
              "}});\n",
              "\n",
              "// Listen for the removal of the full notebook cells\n",
              "var notebookContainer = gd.closest('#notebook-container');\n",
              "if (notebookContainer) {{\n",
              "    x.observe(notebookContainer, {childList: true});\n",
              "}}\n",
              "\n",
              "// Listen for the clearing of the current output cell\n",
              "var outputEl = gd.closest('.output');\n",
              "if (outputEl) {{\n",
              "    x.observe(outputEl, {childList: true});\n",
              "}}\n",
              "\n",
              "                        })                };                            </script>        </div>\n",
              "</body>\n",
              "</html>"
            ]
          },
          "metadata": {}
        }
      ]
    },
    {
      "cell_type": "markdown",
      "source": [
        "### How many songs were made each year, for each genre, across the years?"
      ],
      "metadata": {
        "id": "JCh2nZx4Z6-X"
      }
    },
    {
      "cell_type": "code",
      "source": [
        "curr_df = track_df[['genre_top', 'year_created']].copy()"
      ],
      "metadata": {
        "id": "7NnndYlw8BU4"
      },
      "execution_count": null,
      "outputs": []
    },
    {
      "cell_type": "code",
      "source": [
        "curr_df.info()"
      ],
      "metadata": {
        "colab": {
          "base_uri": "https://localhost:8080/"
        },
        "id": "0FwsX3jb9S64",
        "outputId": "71ade7e2-2cc3-462f-b4c6-458f8a820ecc"
      },
      "execution_count": null,
      "outputs": [
        {
          "output_type": "stream",
          "name": "stdout",
          "text": [
            "<class 'pandas.core.frame.DataFrame'>\n",
            "Int64Index: 106574 entries, 2 to 155320\n",
            "Data columns (total 2 columns):\n",
            " #   Column        Non-Null Count   Dtype   \n",
            "---  ------        --------------   -----   \n",
            " 0   genre_top     49598 non-null   category\n",
            " 1   year_created  106574 non-null  int64   \n",
            "dtypes: category(1), int64(1)\n",
            "memory usage: 1.7 MB\n"
          ]
        }
      ]
    },
    {
      "cell_type": "code",
      "source": [
        "len(curr_df)"
      ],
      "metadata": {
        "colab": {
          "base_uri": "https://localhost:8080/"
        },
        "id": "3PXMWlV1_FM6",
        "outputId": "baca0485-8bed-4e7c-c664-fb9703dc0d91"
      },
      "execution_count": null,
      "outputs": [
        {
          "output_type": "execute_result",
          "data": {
            "text/plain": [
              "106574"
            ]
          },
          "metadata": {},
          "execution_count": 113
        }
      ]
    },
    {
      "cell_type": "code",
      "source": [
        "real_na_count = curr_df['genre_top'].isna().sum()\n",
        "test_na_count = 106_574 - 49_598"
      ],
      "metadata": {
        "id": "MnHfpYed-Npp"
      },
      "execution_count": null,
      "outputs": []
    },
    {
      "cell_type": "code",
      "source": [
        "assert real_na_count == test_na_count"
      ],
      "metadata": {
        "id": "Apu_hy9a-Wyu"
      },
      "execution_count": null,
      "outputs": []
    },
    {
      "cell_type": "code",
      "source": [
        "# how to fill na if the dtype of your column in is category\n",
        "\n",
        "curr_df['genre_top'] = curr_df['genre_top'].astype('str')\n",
        "curr_df['genre_top'] = curr_df['genre_top'].replace(\"nan\", \"Mixed\")"
      ],
      "metadata": {
        "id": "h68HKE7ACPOk"
      },
      "execution_count": null,
      "outputs": []
    },
    {
      "cell_type": "code",
      "source": [
        "curr_df.info()"
      ],
      "metadata": {
        "colab": {
          "base_uri": "https://localhost:8080/"
        },
        "id": "zgQ66-hdIaMH",
        "outputId": "2d59d0d3-55c7-422f-c3e8-0e044a886d02"
      },
      "execution_count": null,
      "outputs": [
        {
          "output_type": "stream",
          "name": "stdout",
          "text": [
            "<class 'pandas.core.frame.DataFrame'>\n",
            "Int64Index: 106574 entries, 2 to 155320\n",
            "Data columns (total 2 columns):\n",
            " #   Column        Non-Null Count   Dtype \n",
            "---  ------        --------------   ----- \n",
            " 0   genre_top     106574 non-null  object\n",
            " 1   year_created  106574 non-null  int64 \n",
            "dtypes: int64(1), object(1)\n",
            "memory usage: 2.4+ MB\n"
          ]
        }
      ]
    },
    {
      "cell_type": "code",
      "source": [
        "new_df = curr_df.groupby(['genre_top','year_created'])['year_created'].count()\n",
        "new_df = new_df.to_frame()\n",
        "new_df.columns = ['count']\n",
        "new_df = new_df.reset_index()"
      ],
      "metadata": {
        "id": "eRxAr2yzJLuO"
      },
      "execution_count": null,
      "outputs": []
    },
    {
      "cell_type": "code",
      "source": [
        "fig = px.scatter(new_df, x='year_created', y='count', color='genre_top')\n",
        "\n",
        "fig.update_layout(\n",
        "    title=\"Mixed Genre or Genre-Bending Music has been Periodically Increasing\",\n",
        "    xaxis=dict(title=\"Year\"),\n",
        "    yaxis=dict(title=\"Number of Songs\"),\n",
        "    font_family=\"Arial\",\n",
        "    font_color=\"gray\",\n",
        "    title_font=dict(family=\"Arial\",\n",
        "                    size=24,\n",
        "                    color=\"black\"),\n",
        "    legend_title_font_color=\"black\",\n",
        "    \n",
        ")\n",
        "fig.update_xaxes(title_font_family=\"Arial\")\n",
        "\n",
        "fig.show()"
      ],
      "metadata": {
        "colab": {
          "base_uri": "https://localhost:8080/"
        },
        "id": "mdGV_ToONWrD",
        "outputId": "c2c2fe34-36eb-4af1-d45a-aecb209425e8"
      },
      "execution_count": null,
      "outputs": [
        {
          "output_type": "display_data",
          "data": {
            "text/html": [
              "<html>\n",
              "<head><meta charset=\"utf-8\" /></head>\n",
              "<body>\n",
              "    <div>            <script src=\"https://cdnjs.cloudflare.com/ajax/libs/mathjax/2.7.5/MathJax.js?config=TeX-AMS-MML_SVG\"></script><script type=\"text/javascript\">if (window.MathJax) {MathJax.Hub.Config({SVG: {font: \"STIX-Web\"}});}</script>                <script type=\"text/javascript\">window.PlotlyConfig = {MathJaxConfig: 'local'};</script>\n",
              "        <script src=\"https://cdn.plot.ly/plotly-2.8.3.min.js\"></script>                <div id=\"db87b86c-3a9c-4b3b-887d-95559b3576ef\" class=\"plotly-graph-div\" style=\"height:525px; width:100%;\"></div>            <script type=\"text/javascript\">                                    window.PLOTLYENV=window.PLOTLYENV || {};                                    if (document.getElementById(\"db87b86c-3a9c-4b3b-887d-95559b3576ef\")) {                    Plotly.newPlot(                        \"db87b86c-3a9c-4b3b-887d-95559b3576ef\",                        [{\"hovertemplate\":\"genre_top=Blues<br>year_created=%{x}<br>count=%{y}<extra></extra>\",\"legendgroup\":\"Blues\",\"marker\":{\"color\":\"#636efa\",\"symbol\":\"circle\"},\"mode\":\"markers\",\"name\":\"Blues\",\"orientation\":\"v\",\"showlegend\":true,\"x\":[2008,2009,2010,2011,2012,2013,2015,2016],\"xaxis\":\"x\",\"y\":[31,27,9,10,6,6,13,8],\"yaxis\":\"y\",\"type\":\"scatter\"},{\"hovertemplate\":\"genre_top=Classical<br>year_created=%{x}<br>count=%{y}<extra></extra>\",\"legendgroup\":\"Classical\",\"marker\":{\"color\":\"#EF553B\",\"symbol\":\"circle\"},\"mode\":\"markers\",\"name\":\"Classical\",\"orientation\":\"v\",\"showlegend\":true,\"x\":[2009,2010,2011,2012,2013,2014,2015,2016,2017],\"xaxis\":\"x\",\"y\":[165,155,166,456,65,8,133,72,10],\"yaxis\":\"y\",\"type\":\"scatter\"},{\"hovertemplate\":\"genre_top=Country<br>year_created=%{x}<br>count=%{y}<extra></extra>\",\"legendgroup\":\"Country\",\"marker\":{\"color\":\"#00cc96\",\"symbol\":\"circle\"},\"mode\":\"markers\",\"name\":\"Country\",\"orientation\":\"v\",\"showlegend\":true,\"x\":[2008,2009,2012,2013,2015,2016],\"xaxis\":\"x\",\"y\":[28,63,11,16,62,14],\"yaxis\":\"y\",\"type\":\"scatter\"},{\"hovertemplate\":\"genre_top=Easy Listening<br>year_created=%{x}<br>count=%{y}<extra></extra>\",\"legendgroup\":\"Easy Listening\",\"marker\":{\"color\":\"#ab63fa\",\"symbol\":\"circle\"},\"mode\":\"markers\",\"name\":\"Easy Listening\",\"orientation\":\"v\",\"showlegend\":true,\"x\":[2009,2010,2011,2012,2013,2015,2016],\"xaxis\":\"x\",\"y\":[1,1,6,1,6,3,6],\"yaxis\":\"y\",\"type\":\"scatter\"},{\"hovertemplate\":\"genre_top=Electronic<br>year_created=%{x}<br>count=%{y}<extra></extra>\",\"legendgroup\":\"Electronic\",\"marker\":{\"color\":\"#FFA15A\",\"symbol\":\"circle\"},\"mode\":\"markers\",\"name\":\"Electronic\",\"orientation\":\"v\",\"showlegend\":true,\"x\":[2008,2009,2010,2011,2012,2013,2014,2015,2016,2017],\"xaxis\":\"x\",\"y\":[256,1147,1504,892,1088,1330,874,760,986,535],\"yaxis\":\"y\",\"type\":\"scatter\"},{\"hovertemplate\":\"genre_top=Experimental<br>year_created=%{x}<br>count=%{y}<extra></extra>\",\"legendgroup\":\"Experimental\",\"marker\":{\"color\":\"#19d3f3\",\"symbol\":\"circle\"},\"mode\":\"markers\",\"name\":\"Experimental\",\"orientation\":\"v\",\"showlegend\":true,\"x\":[2008,2009,2010,2011,2012,2013,2014,2015,2016,2017],\"xaxis\":\"x\",\"y\":[376,1069,1581,1503,1168,1370,954,1318,938,331],\"yaxis\":\"y\",\"type\":\"scatter\"},{\"hovertemplate\":\"genre_top=Folk<br>year_created=%{x}<br>count=%{y}<extra></extra>\",\"legendgroup\":\"Folk\",\"marker\":{\"color\":\"#FF6692\",\"symbol\":\"circle\"},\"mode\":\"markers\",\"name\":\"Folk\",\"orientation\":\"v\",\"showlegend\":true,\"x\":[2008,2009,2010,2011,2012,2013,2014,2015,2016,2017],\"xaxis\":\"x\",\"y\":[234,496,236,270,207,349,250,310,332,119],\"yaxis\":\"y\",\"type\":\"scatter\"},{\"hovertemplate\":\"genre_top=Hip-Hop<br>year_created=%{x}<br>count=%{y}<extra></extra>\",\"legendgroup\":\"Hip-Hop\",\"marker\":{\"color\":\"#B6E880\",\"symbol\":\"circle\"},\"mode\":\"markers\",\"name\":\"Hip-Hop\",\"orientation\":\"v\",\"showlegend\":true,\"x\":[2008,2009,2010,2011,2012,2013,2014,2015,2016,2017],\"xaxis\":\"x\",\"y\":[48,492,336,315,458,474,579,313,435,102],\"yaxis\":\"y\",\"type\":\"scatter\"},{\"hovertemplate\":\"genre_top=Instrumental<br>year_created=%{x}<br>count=%{y}<extra></extra>\",\"legendgroup\":\"Instrumental\",\"marker\":{\"color\":\"#FF97FF\",\"symbol\":\"circle\"},\"mode\":\"markers\",\"name\":\"Instrumental\",\"orientation\":\"v\",\"showlegend\":true,\"x\":[2009,2010,2011,2012,2013,2014,2015,2016,2017],\"xaxis\":\"x\",\"y\":[132,171,163,113,228,185,590,423,74],\"yaxis\":\"y\",\"type\":\"scatter\"},{\"hovertemplate\":\"genre_top=International<br>year_created=%{x}<br>count=%{y}<extra></extra>\",\"legendgroup\":\"International\",\"marker\":{\"color\":\"#FECB52\",\"symbol\":\"circle\"},\"mode\":\"markers\",\"name\":\"International\",\"orientation\":\"v\",\"showlegend\":true,\"x\":[2008,2009,2010,2011,2012,2013,2014,2015,2016,2017],\"xaxis\":\"x\",\"y\":[76,121,184,237,192,80,139,133,156,71],\"yaxis\":\"y\",\"type\":\"scatter\"},{\"hovertemplate\":\"genre_top=Jazz<br>year_created=%{x}<br>count=%{y}<extra></extra>\",\"legendgroup\":\"Jazz\",\"marker\":{\"color\":\"#636efa\",\"symbol\":\"circle\"},\"mode\":\"markers\",\"name\":\"Jazz\",\"orientation\":\"v\",\"showlegend\":true,\"x\":[2008,2009,2010,2011,2012,2013,2014,2015,2016,2017],\"xaxis\":\"x\",\"y\":[45,152,105,69,113,33,5,14,24,11],\"yaxis\":\"y\",\"type\":\"scatter\"},{\"hovertemplate\":\"genre_top=Mixed<br>year_created=%{x}<br>count=%{y}<extra></extra>\",\"legendgroup\":\"Mixed\",\"marker\":{\"color\":\"#EF553B\",\"symbol\":\"circle\"},\"mode\":\"markers\",\"name\":\"Mixed\",\"orientation\":\"v\",\"showlegend\":true,\"x\":[2008,2009,2010,2011,2012,2013,2014,2015,2016,2017],\"xaxis\":\"x\",\"y\":[254,4878,6926,5558,6224,8086,5750,7333,9537,2430],\"yaxis\":\"y\",\"type\":\"scatter\"},{\"hovertemplate\":\"genre_top=Old-Time / Historic<br>year_created=%{x}<br>count=%{y}<extra></extra>\",\"legendgroup\":\"Old-Time / Historic\",\"marker\":{\"color\":\"#00cc96\",\"symbol\":\"circle\"},\"mode\":\"markers\",\"name\":\"Old-Time / Historic\",\"orientation\":\"v\",\"showlegend\":true,\"x\":[2009,2010,2011,2012,2015,2016],\"xaxis\":\"x\",\"y\":[303,60,15,36,129,11],\"yaxis\":\"y\",\"type\":\"scatter\"},{\"hovertemplate\":\"genre_top=Pop<br>year_created=%{x}<br>count=%{y}<extra></extra>\",\"legendgroup\":\"Pop\",\"marker\":{\"color\":\"#ab63fa\",\"symbol\":\"circle\"},\"mode\":\"markers\",\"name\":\"Pop\",\"orientation\":\"v\",\"showlegend\":true,\"x\":[2008,2009,2010,2011,2012,2013,2014,2015,2016,2017],\"xaxis\":\"x\",\"y\":[49,242,373,328,177,246,76,609,171,61],\"yaxis\":\"y\",\"type\":\"scatter\"},{\"hovertemplate\":\"genre_top=Rock<br>year_created=%{x}<br>count=%{y}<extra></extra>\",\"legendgroup\":\"Rock\",\"marker\":{\"color\":\"#FFA15A\",\"symbol\":\"circle\"},\"mode\":\"markers\",\"name\":\"Rock\",\"orientation\":\"v\",\"showlegend\":true,\"x\":[2008,2009,2010,2011,2012,2013,2014,2015,2016,2017],\"xaxis\":\"x\",\"y\":[1339,2000,1359,1831,2066,1544,936,1251,1349,507],\"yaxis\":\"y\",\"type\":\"scatter\"},{\"hovertemplate\":\"genre_top=Soul-RnB<br>year_created=%{x}<br>count=%{y}<extra></extra>\",\"legendgroup\":\"Soul-RnB\",\"marker\":{\"color\":\"#19d3f3\",\"symbol\":\"circle\"},\"mode\":\"markers\",\"name\":\"Soul-RnB\",\"orientation\":\"v\",\"showlegend\":true,\"x\":[2008,2009,2010,2011,2012,2013,2015,2016],\"xaxis\":\"x\",\"y\":[42,7,24,9,22,26,42,3],\"yaxis\":\"y\",\"type\":\"scatter\"},{\"hovertemplate\":\"genre_top=Spoken<br>year_created=%{x}<br>count=%{y}<extra></extra>\",\"legendgroup\":\"Spoken\",\"marker\":{\"color\":\"#FF6692\",\"symbol\":\"circle\"},\"mode\":\"markers\",\"name\":\"Spoken\",\"orientation\":\"v\",\"showlegend\":true,\"x\":[2008,2009,2010,2011,2012,2013,2014,2015,2016],\"xaxis\":\"x\",\"y\":[85,57,33,87,28,17,14,83,19],\"yaxis\":\"y\",\"type\":\"scatter\"}],                        {\"template\":{\"data\":{\"bar\":[{\"error_x\":{\"color\":\"#2a3f5f\"},\"error_y\":{\"color\":\"#2a3f5f\"},\"marker\":{\"line\":{\"color\":\"#E5ECF6\",\"width\":0.5},\"pattern\":{\"fillmode\":\"overlay\",\"size\":10,\"solidity\":0.2}},\"type\":\"bar\"}],\"barpolar\":[{\"marker\":{\"line\":{\"color\":\"#E5ECF6\",\"width\":0.5},\"pattern\":{\"fillmode\":\"overlay\",\"size\":10,\"solidity\":0.2}},\"type\":\"barpolar\"}],\"carpet\":[{\"aaxis\":{\"endlinecolor\":\"#2a3f5f\",\"gridcolor\":\"white\",\"linecolor\":\"white\",\"minorgridcolor\":\"white\",\"startlinecolor\":\"#2a3f5f\"},\"baxis\":{\"endlinecolor\":\"#2a3f5f\",\"gridcolor\":\"white\",\"linecolor\":\"white\",\"minorgridcolor\":\"white\",\"startlinecolor\":\"#2a3f5f\"},\"type\":\"carpet\"}],\"choropleth\":[{\"colorbar\":{\"outlinewidth\":0,\"ticks\":\"\"},\"type\":\"choropleth\"}],\"contour\":[{\"colorbar\":{\"outlinewidth\":0,\"ticks\":\"\"},\"colorscale\":[[0.0,\"#0d0887\"],[0.1111111111111111,\"#46039f\"],[0.2222222222222222,\"#7201a8\"],[0.3333333333333333,\"#9c179e\"],[0.4444444444444444,\"#bd3786\"],[0.5555555555555556,\"#d8576b\"],[0.6666666666666666,\"#ed7953\"],[0.7777777777777778,\"#fb9f3a\"],[0.8888888888888888,\"#fdca26\"],[1.0,\"#f0f921\"]],\"type\":\"contour\"}],\"contourcarpet\":[{\"colorbar\":{\"outlinewidth\":0,\"ticks\":\"\"},\"type\":\"contourcarpet\"}],\"heatmap\":[{\"colorbar\":{\"outlinewidth\":0,\"ticks\":\"\"},\"colorscale\":[[0.0,\"#0d0887\"],[0.1111111111111111,\"#46039f\"],[0.2222222222222222,\"#7201a8\"],[0.3333333333333333,\"#9c179e\"],[0.4444444444444444,\"#bd3786\"],[0.5555555555555556,\"#d8576b\"],[0.6666666666666666,\"#ed7953\"],[0.7777777777777778,\"#fb9f3a\"],[0.8888888888888888,\"#fdca26\"],[1.0,\"#f0f921\"]],\"type\":\"heatmap\"}],\"heatmapgl\":[{\"colorbar\":{\"outlinewidth\":0,\"ticks\":\"\"},\"colorscale\":[[0.0,\"#0d0887\"],[0.1111111111111111,\"#46039f\"],[0.2222222222222222,\"#7201a8\"],[0.3333333333333333,\"#9c179e\"],[0.4444444444444444,\"#bd3786\"],[0.5555555555555556,\"#d8576b\"],[0.6666666666666666,\"#ed7953\"],[0.7777777777777778,\"#fb9f3a\"],[0.8888888888888888,\"#fdca26\"],[1.0,\"#f0f921\"]],\"type\":\"heatmapgl\"}],\"histogram\":[{\"marker\":{\"pattern\":{\"fillmode\":\"overlay\",\"size\":10,\"solidity\":0.2}},\"type\":\"histogram\"}],\"histogram2d\":[{\"colorbar\":{\"outlinewidth\":0,\"ticks\":\"\"},\"colorscale\":[[0.0,\"#0d0887\"],[0.1111111111111111,\"#46039f\"],[0.2222222222222222,\"#7201a8\"],[0.3333333333333333,\"#9c179e\"],[0.4444444444444444,\"#bd3786\"],[0.5555555555555556,\"#d8576b\"],[0.6666666666666666,\"#ed7953\"],[0.7777777777777778,\"#fb9f3a\"],[0.8888888888888888,\"#fdca26\"],[1.0,\"#f0f921\"]],\"type\":\"histogram2d\"}],\"histogram2dcontour\":[{\"colorbar\":{\"outlinewidth\":0,\"ticks\":\"\"},\"colorscale\":[[0.0,\"#0d0887\"],[0.1111111111111111,\"#46039f\"],[0.2222222222222222,\"#7201a8\"],[0.3333333333333333,\"#9c179e\"],[0.4444444444444444,\"#bd3786\"],[0.5555555555555556,\"#d8576b\"],[0.6666666666666666,\"#ed7953\"],[0.7777777777777778,\"#fb9f3a\"],[0.8888888888888888,\"#fdca26\"],[1.0,\"#f0f921\"]],\"type\":\"histogram2dcontour\"}],\"mesh3d\":[{\"colorbar\":{\"outlinewidth\":0,\"ticks\":\"\"},\"type\":\"mesh3d\"}],\"parcoords\":[{\"line\":{\"colorbar\":{\"outlinewidth\":0,\"ticks\":\"\"}},\"type\":\"parcoords\"}],\"pie\":[{\"automargin\":true,\"type\":\"pie\"}],\"scatter\":[{\"marker\":{\"colorbar\":{\"outlinewidth\":0,\"ticks\":\"\"}},\"type\":\"scatter\"}],\"scatter3d\":[{\"line\":{\"colorbar\":{\"outlinewidth\":0,\"ticks\":\"\"}},\"marker\":{\"colorbar\":{\"outlinewidth\":0,\"ticks\":\"\"}},\"type\":\"scatter3d\"}],\"scattercarpet\":[{\"marker\":{\"colorbar\":{\"outlinewidth\":0,\"ticks\":\"\"}},\"type\":\"scattercarpet\"}],\"scattergeo\":[{\"marker\":{\"colorbar\":{\"outlinewidth\":0,\"ticks\":\"\"}},\"type\":\"scattergeo\"}],\"scattergl\":[{\"marker\":{\"colorbar\":{\"outlinewidth\":0,\"ticks\":\"\"}},\"type\":\"scattergl\"}],\"scattermapbox\":[{\"marker\":{\"colorbar\":{\"outlinewidth\":0,\"ticks\":\"\"}},\"type\":\"scattermapbox\"}],\"scatterpolar\":[{\"marker\":{\"colorbar\":{\"outlinewidth\":0,\"ticks\":\"\"}},\"type\":\"scatterpolar\"}],\"scatterpolargl\":[{\"marker\":{\"colorbar\":{\"outlinewidth\":0,\"ticks\":\"\"}},\"type\":\"scatterpolargl\"}],\"scatterternary\":[{\"marker\":{\"colorbar\":{\"outlinewidth\":0,\"ticks\":\"\"}},\"type\":\"scatterternary\"}],\"surface\":[{\"colorbar\":{\"outlinewidth\":0,\"ticks\":\"\"},\"colorscale\":[[0.0,\"#0d0887\"],[0.1111111111111111,\"#46039f\"],[0.2222222222222222,\"#7201a8\"],[0.3333333333333333,\"#9c179e\"],[0.4444444444444444,\"#bd3786\"],[0.5555555555555556,\"#d8576b\"],[0.6666666666666666,\"#ed7953\"],[0.7777777777777778,\"#fb9f3a\"],[0.8888888888888888,\"#fdca26\"],[1.0,\"#f0f921\"]],\"type\":\"surface\"}],\"table\":[{\"cells\":{\"fill\":{\"color\":\"#EBF0F8\"},\"line\":{\"color\":\"white\"}},\"header\":{\"fill\":{\"color\":\"#C8D4E3\"},\"line\":{\"color\":\"white\"}},\"type\":\"table\"}]},\"layout\":{\"annotationdefaults\":{\"arrowcolor\":\"#2a3f5f\",\"arrowhead\":0,\"arrowwidth\":1},\"autotypenumbers\":\"strict\",\"coloraxis\":{\"colorbar\":{\"outlinewidth\":0,\"ticks\":\"\"}},\"colorscale\":{\"diverging\":[[0,\"#8e0152\"],[0.1,\"#c51b7d\"],[0.2,\"#de77ae\"],[0.3,\"#f1b6da\"],[0.4,\"#fde0ef\"],[0.5,\"#f7f7f7\"],[0.6,\"#e6f5d0\"],[0.7,\"#b8e186\"],[0.8,\"#7fbc41\"],[0.9,\"#4d9221\"],[1,\"#276419\"]],\"sequential\":[[0.0,\"#0d0887\"],[0.1111111111111111,\"#46039f\"],[0.2222222222222222,\"#7201a8\"],[0.3333333333333333,\"#9c179e\"],[0.4444444444444444,\"#bd3786\"],[0.5555555555555556,\"#d8576b\"],[0.6666666666666666,\"#ed7953\"],[0.7777777777777778,\"#fb9f3a\"],[0.8888888888888888,\"#fdca26\"],[1.0,\"#f0f921\"]],\"sequentialminus\":[[0.0,\"#0d0887\"],[0.1111111111111111,\"#46039f\"],[0.2222222222222222,\"#7201a8\"],[0.3333333333333333,\"#9c179e\"],[0.4444444444444444,\"#bd3786\"],[0.5555555555555556,\"#d8576b\"],[0.6666666666666666,\"#ed7953\"],[0.7777777777777778,\"#fb9f3a\"],[0.8888888888888888,\"#fdca26\"],[1.0,\"#f0f921\"]]},\"colorway\":[\"#636efa\",\"#EF553B\",\"#00cc96\",\"#ab63fa\",\"#FFA15A\",\"#19d3f3\",\"#FF6692\",\"#B6E880\",\"#FF97FF\",\"#FECB52\"],\"font\":{\"color\":\"#2a3f5f\"},\"geo\":{\"bgcolor\":\"white\",\"lakecolor\":\"white\",\"landcolor\":\"#E5ECF6\",\"showlakes\":true,\"showland\":true,\"subunitcolor\":\"white\"},\"hoverlabel\":{\"align\":\"left\"},\"hovermode\":\"closest\",\"mapbox\":{\"style\":\"light\"},\"paper_bgcolor\":\"white\",\"plot_bgcolor\":\"#E5ECF6\",\"polar\":{\"angularaxis\":{\"gridcolor\":\"white\",\"linecolor\":\"white\",\"ticks\":\"\"},\"bgcolor\":\"#E5ECF6\",\"radialaxis\":{\"gridcolor\":\"white\",\"linecolor\":\"white\",\"ticks\":\"\"}},\"scene\":{\"xaxis\":{\"backgroundcolor\":\"#E5ECF6\",\"gridcolor\":\"white\",\"gridwidth\":2,\"linecolor\":\"white\",\"showbackground\":true,\"ticks\":\"\",\"zerolinecolor\":\"white\"},\"yaxis\":{\"backgroundcolor\":\"#E5ECF6\",\"gridcolor\":\"white\",\"gridwidth\":2,\"linecolor\":\"white\",\"showbackground\":true,\"ticks\":\"\",\"zerolinecolor\":\"white\"},\"zaxis\":{\"backgroundcolor\":\"#E5ECF6\",\"gridcolor\":\"white\",\"gridwidth\":2,\"linecolor\":\"white\",\"showbackground\":true,\"ticks\":\"\",\"zerolinecolor\":\"white\"}},\"shapedefaults\":{\"line\":{\"color\":\"#2a3f5f\"}},\"ternary\":{\"aaxis\":{\"gridcolor\":\"white\",\"linecolor\":\"white\",\"ticks\":\"\"},\"baxis\":{\"gridcolor\":\"white\",\"linecolor\":\"white\",\"ticks\":\"\"},\"bgcolor\":\"#E5ECF6\",\"caxis\":{\"gridcolor\":\"white\",\"linecolor\":\"white\",\"ticks\":\"\"}},\"title\":{\"x\":0.05},\"xaxis\":{\"automargin\":true,\"gridcolor\":\"white\",\"linecolor\":\"white\",\"ticks\":\"\",\"title\":{\"standoff\":15},\"zerolinecolor\":\"white\",\"zerolinewidth\":2},\"yaxis\":{\"automargin\":true,\"gridcolor\":\"white\",\"linecolor\":\"white\",\"ticks\":\"\",\"title\":{\"standoff\":15},\"zerolinecolor\":\"white\",\"zerolinewidth\":2}}},\"xaxis\":{\"anchor\":\"y\",\"domain\":[0.0,1.0],\"title\":{\"text\":\"Year\",\"font\":{\"family\":\"Arial\"}}},\"yaxis\":{\"anchor\":\"x\",\"domain\":[0.0,1.0],\"title\":{\"text\":\"Number of Songs\"}},\"legend\":{\"title\":{\"text\":\"genre_top\",\"font\":{\"color\":\"black\"}},\"tracegroupgap\":0},\"margin\":{\"t\":60},\"font\":{\"family\":\"Arial\",\"color\":\"gray\"},\"title\":{\"text\":\"Mixed Genre or Genre-Bending Music has been Periodically Increasing\",\"font\":{\"family\":\"Arial\",\"size\":24,\"color\":\"black\"}}},                        {\"responsive\": true}                    ).then(function(){\n",
              "                            \n",
              "var gd = document.getElementById('db87b86c-3a9c-4b3b-887d-95559b3576ef');\n",
              "var x = new MutationObserver(function (mutations, observer) {{\n",
              "        var display = window.getComputedStyle(gd).display;\n",
              "        if (!display || display === 'none') {{\n",
              "            console.log([gd, 'removed!']);\n",
              "            Plotly.purge(gd);\n",
              "            observer.disconnect();\n",
              "        }}\n",
              "}});\n",
              "\n",
              "// Listen for the removal of the full notebook cells\n",
              "var notebookContainer = gd.closest('#notebook-container');\n",
              "if (notebookContainer) {{\n",
              "    x.observe(notebookContainer, {childList: true});\n",
              "}}\n",
              "\n",
              "// Listen for the clearing of the current output cell\n",
              "var outputEl = gd.closest('.output');\n",
              "if (outputEl) {{\n",
              "    x.observe(outputEl, {childList: true});\n",
              "}}\n",
              "\n",
              "                        })                };                            </script>        </div>\n",
              "</body>\n",
              "</html>"
            ]
          },
          "metadata": {}
        }
      ]
    },
    {
      "cell_type": "markdown",
      "source": [
        "### [WIP] Listens:Song Released Ratio"
      ],
      "metadata": {
        "id": "Jc_pwRq1RgWH"
      }
    },
    {
      "cell_type": "code",
      "source": [],
      "metadata": {
        "id": "vOaB5HHyRr29"
      },
      "execution_count": null,
      "outputs": []
    },
    {
      "cell_type": "markdown",
      "source": [
        "### [WIP] Music is evolving. Music has stopped existing in silos. What is the ratio of songs that have more than 3 genres describing it?"
      ],
      "metadata": {
        "id": "bqucf-29SmKW"
      }
    },
    {
      "cell_type": "markdown",
      "source": [
        "### What is the album id for Single tracks?"
      ],
      "metadata": {
        "id": "WVxPl6iCRNi_"
      }
    },
    {
      "cell_type": "code",
      "source": [
        "album_df = df['album'].copy()"
      ],
      "metadata": {
        "id": "Z5R70dbtRSCl"
      },
      "execution_count": null,
      "outputs": []
    },
    {
      "cell_type": "code",
      "source": [
        "album_df[['id', 'type']].query('type == \"Single Tracks\"')"
      ],
      "metadata": {
        "colab": {
          "base_uri": "https://localhost:8080/"
        },
        "id": "ZcgySXjkT1Jw",
        "outputId": "d0404d83-430c-4590-b49b-eba113972a96"
      },
      "execution_count": null,
      "outputs": [
        {
          "output_type": "execute_result",
          "data": {
            "text/plain": [
              "             id           type\n",
              "track_id                      \n",
              "135          58  Single Tracks\n",
              "136          58  Single Tracks\n",
              "155          70  Single Tracks\n",
              "169          72  Single Tracks\n",
              "170          73  Single Tracks\n",
              "...         ...            ...\n",
              "154919    22867  Single Tracks\n",
              "154998    22501  Single Tracks\n",
              "155119    22111  Single Tracks\n",
              "155246    20928  Single Tracks\n",
              "155247    22923  Single Tracks\n",
              "\n",
              "[917 rows x 2 columns]"
            ],
            "text/html": [
              "\n",
              "  <div id=\"df-12c9af34-65cf-4f6f-822c-654ae7b9f202\">\n",
              "    <div class=\"colab-df-container\">\n",
              "      <div>\n",
              "<style scoped>\n",
              "    .dataframe tbody tr th:only-of-type {\n",
              "        vertical-align: middle;\n",
              "    }\n",
              "\n",
              "    .dataframe tbody tr th {\n",
              "        vertical-align: top;\n",
              "    }\n",
              "\n",
              "    .dataframe thead th {\n",
              "        text-align: right;\n",
              "    }\n",
              "</style>\n",
              "<table border=\"1\" class=\"dataframe\">\n",
              "  <thead>\n",
              "    <tr style=\"text-align: right;\">\n",
              "      <th></th>\n",
              "      <th>id</th>\n",
              "      <th>type</th>\n",
              "    </tr>\n",
              "    <tr>\n",
              "      <th>track_id</th>\n",
              "      <th></th>\n",
              "      <th></th>\n",
              "    </tr>\n",
              "  </thead>\n",
              "  <tbody>\n",
              "    <tr>\n",
              "      <th>135</th>\n",
              "      <td>58</td>\n",
              "      <td>Single Tracks</td>\n",
              "    </tr>\n",
              "    <tr>\n",
              "      <th>136</th>\n",
              "      <td>58</td>\n",
              "      <td>Single Tracks</td>\n",
              "    </tr>\n",
              "    <tr>\n",
              "      <th>155</th>\n",
              "      <td>70</td>\n",
              "      <td>Single Tracks</td>\n",
              "    </tr>\n",
              "    <tr>\n",
              "      <th>169</th>\n",
              "      <td>72</td>\n",
              "      <td>Single Tracks</td>\n",
              "    </tr>\n",
              "    <tr>\n",
              "      <th>170</th>\n",
              "      <td>73</td>\n",
              "      <td>Single Tracks</td>\n",
              "    </tr>\n",
              "    <tr>\n",
              "      <th>...</th>\n",
              "      <td>...</td>\n",
              "      <td>...</td>\n",
              "    </tr>\n",
              "    <tr>\n",
              "      <th>154919</th>\n",
              "      <td>22867</td>\n",
              "      <td>Single Tracks</td>\n",
              "    </tr>\n",
              "    <tr>\n",
              "      <th>154998</th>\n",
              "      <td>22501</td>\n",
              "      <td>Single Tracks</td>\n",
              "    </tr>\n",
              "    <tr>\n",
              "      <th>155119</th>\n",
              "      <td>22111</td>\n",
              "      <td>Single Tracks</td>\n",
              "    </tr>\n",
              "    <tr>\n",
              "      <th>155246</th>\n",
              "      <td>20928</td>\n",
              "      <td>Single Tracks</td>\n",
              "    </tr>\n",
              "    <tr>\n",
              "      <th>155247</th>\n",
              "      <td>22923</td>\n",
              "      <td>Single Tracks</td>\n",
              "    </tr>\n",
              "  </tbody>\n",
              "</table>\n",
              "<p>917 rows × 2 columns</p>\n",
              "</div>\n",
              "      <button class=\"colab-df-convert\" onclick=\"convertToInteractive('df-12c9af34-65cf-4f6f-822c-654ae7b9f202')\"\n",
              "              title=\"Convert this dataframe to an interactive table.\"\n",
              "              style=\"display:none;\">\n",
              "        \n",
              "  <svg xmlns=\"http://www.w3.org/2000/svg\" height=\"24px\"viewBox=\"0 0 24 24\"\n",
              "       width=\"24px\">\n",
              "    <path d=\"M0 0h24v24H0V0z\" fill=\"none\"/>\n",
              "    <path d=\"M18.56 5.44l.94 2.06.94-2.06 2.06-.94-2.06-.94-.94-2.06-.94 2.06-2.06.94zm-11 1L8.5 8.5l.94-2.06 2.06-.94-2.06-.94L8.5 2.5l-.94 2.06-2.06.94zm10 10l.94 2.06.94-2.06 2.06-.94-2.06-.94-.94-2.06-.94 2.06-2.06.94z\"/><path d=\"M17.41 7.96l-1.37-1.37c-.4-.4-.92-.59-1.43-.59-.52 0-1.04.2-1.43.59L10.3 9.45l-7.72 7.72c-.78.78-.78 2.05 0 2.83L4 21.41c.39.39.9.59 1.41.59.51 0 1.02-.2 1.41-.59l7.78-7.78 2.81-2.81c.8-.78.8-2.07 0-2.86zM5.41 20L4 18.59l7.72-7.72 1.47 1.35L5.41 20z\"/>\n",
              "  </svg>\n",
              "      </button>\n",
              "      \n",
              "  <style>\n",
              "    .colab-df-container {\n",
              "      display:flex;\n",
              "      flex-wrap:wrap;\n",
              "      gap: 12px;\n",
              "    }\n",
              "\n",
              "    .colab-df-convert {\n",
              "      background-color: #E8F0FE;\n",
              "      border: none;\n",
              "      border-radius: 50%;\n",
              "      cursor: pointer;\n",
              "      display: none;\n",
              "      fill: #1967D2;\n",
              "      height: 32px;\n",
              "      padding: 0 0 0 0;\n",
              "      width: 32px;\n",
              "    }\n",
              "\n",
              "    .colab-df-convert:hover {\n",
              "      background-color: #E2EBFA;\n",
              "      box-shadow: 0px 1px 2px rgba(60, 64, 67, 0.3), 0px 1px 3px 1px rgba(60, 64, 67, 0.15);\n",
              "      fill: #174EA6;\n",
              "    }\n",
              "\n",
              "    [theme=dark] .colab-df-convert {\n",
              "      background-color: #3B4455;\n",
              "      fill: #D2E3FC;\n",
              "    }\n",
              "\n",
              "    [theme=dark] .colab-df-convert:hover {\n",
              "      background-color: #434B5C;\n",
              "      box-shadow: 0px 1px 3px 1px rgba(0, 0, 0, 0.15);\n",
              "      filter: drop-shadow(0px 1px 2px rgba(0, 0, 0, 0.3));\n",
              "      fill: #FFFFFF;\n",
              "    }\n",
              "  </style>\n",
              "\n",
              "      <script>\n",
              "        const buttonEl =\n",
              "          document.querySelector('#df-12c9af34-65cf-4f6f-822c-654ae7b9f202 button.colab-df-convert');\n",
              "        buttonEl.style.display =\n",
              "          google.colab.kernel.accessAllowed ? 'block' : 'none';\n",
              "\n",
              "        async function convertToInteractive(key) {\n",
              "          const element = document.querySelector('#df-12c9af34-65cf-4f6f-822c-654ae7b9f202');\n",
              "          const dataTable =\n",
              "            await google.colab.kernel.invokeFunction('convertToInteractive',\n",
              "                                                     [key], {});\n",
              "          if (!dataTable) return;\n",
              "\n",
              "          const docLinkHtml = 'Like what you see? Visit the ' +\n",
              "            '<a target=\"_blank\" href=https://colab.research.google.com/notebooks/data_table.ipynb>data table notebook</a>'\n",
              "            + ' to learn more about interactive tables.';\n",
              "          element.innerHTML = '';\n",
              "          dataTable['output_type'] = 'display_data';\n",
              "          await google.colab.output.renderOutput(dataTable, element);\n",
              "          const docLink = document.createElement('div');\n",
              "          docLink.innerHTML = docLinkHtml;\n",
              "          element.appendChild(docLink);\n",
              "        }\n",
              "      </script>\n",
              "    </div>\n",
              "  </div>\n",
              "  "
            ]
          },
          "metadata": {},
          "execution_count": 106
        }
      ]
    },
    {
      "cell_type": "code",
      "source": [
        "album_df.loc[album_df[\"type\"] == \"Single Tracks\"]"
      ],
      "metadata": {
        "colab": {
          "base_uri": "https://localhost:8080/"
        },
        "id": "pv75KjTUU8GG",
        "outputId": "89a17398-94f8-475d-fd0f-30ef702d7820"
      },
      "execution_count": null,
      "outputs": [
        {
          "output_type": "execute_result",
          "data": {
            "text/plain": [
              "          comments        date_created date_released engineer  favorites  \\\n",
              "track_id                                                                   \n",
              "135              1 2008-11-26 01:49:19    2009-01-07      NaN          0   \n",
              "136              1 2008-11-26 01:49:19    2009-01-07      NaN          0   \n",
              "155              0 2008-11-26 01:51:00    2009-01-06      NaN          0   \n",
              "169              0 2008-11-26 01:51:48    2008-06-23      NaN          0   \n",
              "170              0 2008-11-26 01:51:50    2007-01-01      NaN          0   \n",
              "...            ...                 ...           ...      ...        ...   \n",
              "154919           0 2017-03-20 09:22:30    2017-03-20      NaN          0   \n",
              "154998           0 2017-02-06 11:50:21    2017-02-06      NaN          0   \n",
              "155119           0 2016-12-24 14:09:43           NaT      NaN          0   \n",
              "155246           1 2016-06-20 13:14:42           NaT      NaN          0   \n",
              "155247           0 2017-03-29 09:41:20    2017-03-29      NaN          0   \n",
              "\n",
              "             id                                        information  listens  \\\n",
              "track_id                                                                      \n",
              "135          58  <p>A couple of unreleased mp3s from the fellas...     3331   \n",
              "136          58  <p>A couple of unreleased mp3s from the fellas...     3331   \n",
              "155          70  <p>Unreleased, unmastered but still very loud ...      197   \n",
              "169          72  <p><em>from James' <a href=\"http://www.belowpd...      716   \n",
              "170          73       <p>Recorded mostly on October 7 of 2006.</p>      193   \n",
              "...         ...                                                ...      ...   \n",
              "154919    22867                                                NaN     2195   \n",
              "154998    22501                                                NaN     2191   \n",
              "155119    22111                                                NaN     4966   \n",
              "155246    20928                                                NaN    27073   \n",
              "155247    22923                                                NaN     1025   \n",
              "\n",
              "              producer                                               tags  \\\n",
              "track_id                                                                    \n",
              "135                NaN                                                 []   \n",
              "136                NaN                                                 []   \n",
              "155                NaN                                                 []   \n",
              "169                NaN                                                 []   \n",
              "170                NaN                                                 []   \n",
              "...                ...                                                ...   \n",
              "154919         Fleslit  [young, yung, young lord, yung lord, lord, asa...   \n",
              "154998             NaN                                                 []   \n",
              "155119    Jay Bachelor                                       [orchestral]   \n",
              "155246             NaN                                                 []   \n",
              "155247         Fleslit  [instrumental trap beat, love, instrumental tr...   \n",
              "\n",
              "                                      title  tracks           type  \n",
              "track_id                                                            \n",
              "135                                     mp3       4  Single Tracks  \n",
              "136                                     mp3       4  Single Tracks  \n",
              "155                         unreleased demo       1  Single Tracks  \n",
              "169                            Boss of Goth       4  Single Tracks  \n",
              "170                            Nightmarcher       2  Single Tracks  \n",
              "...                                     ...     ...            ...  \n",
              "154919                               London       0  Single Tracks  \n",
              "154998      \"Promise of Time\" Upbeat Themes       8  Single Tracks  \n",
              "155119    \"All or Nothing\" Action Orchestra      16  Single Tracks  \n",
              "155246     \"Midnight Caravan\" ~ World Music      12  Single Tracks  \n",
              "155247                      Love In The Sky       0  Single Tracks  \n",
              "\n",
              "[917 rows x 13 columns]"
            ],
            "text/html": [
              "\n",
              "  <div id=\"df-788b788d-0005-481c-a797-6cc1b26f72a7\">\n",
              "    <div class=\"colab-df-container\">\n",
              "      <div>\n",
              "<style scoped>\n",
              "    .dataframe tbody tr th:only-of-type {\n",
              "        vertical-align: middle;\n",
              "    }\n",
              "\n",
              "    .dataframe tbody tr th {\n",
              "        vertical-align: top;\n",
              "    }\n",
              "\n",
              "    .dataframe thead th {\n",
              "        text-align: right;\n",
              "    }\n",
              "</style>\n",
              "<table border=\"1\" class=\"dataframe\">\n",
              "  <thead>\n",
              "    <tr style=\"text-align: right;\">\n",
              "      <th></th>\n",
              "      <th>comments</th>\n",
              "      <th>date_created</th>\n",
              "      <th>date_released</th>\n",
              "      <th>engineer</th>\n",
              "      <th>favorites</th>\n",
              "      <th>id</th>\n",
              "      <th>information</th>\n",
              "      <th>listens</th>\n",
              "      <th>producer</th>\n",
              "      <th>tags</th>\n",
              "      <th>title</th>\n",
              "      <th>tracks</th>\n",
              "      <th>type</th>\n",
              "    </tr>\n",
              "    <tr>\n",
              "      <th>track_id</th>\n",
              "      <th></th>\n",
              "      <th></th>\n",
              "      <th></th>\n",
              "      <th></th>\n",
              "      <th></th>\n",
              "      <th></th>\n",
              "      <th></th>\n",
              "      <th></th>\n",
              "      <th></th>\n",
              "      <th></th>\n",
              "      <th></th>\n",
              "      <th></th>\n",
              "      <th></th>\n",
              "    </tr>\n",
              "  </thead>\n",
              "  <tbody>\n",
              "    <tr>\n",
              "      <th>135</th>\n",
              "      <td>1</td>\n",
              "      <td>2008-11-26 01:49:19</td>\n",
              "      <td>2009-01-07</td>\n",
              "      <td>NaN</td>\n",
              "      <td>0</td>\n",
              "      <td>58</td>\n",
              "      <td>&lt;p&gt;A couple of unreleased mp3s from the fellas...</td>\n",
              "      <td>3331</td>\n",
              "      <td>NaN</td>\n",
              "      <td>[]</td>\n",
              "      <td>mp3</td>\n",
              "      <td>4</td>\n",
              "      <td>Single Tracks</td>\n",
              "    </tr>\n",
              "    <tr>\n",
              "      <th>136</th>\n",
              "      <td>1</td>\n",
              "      <td>2008-11-26 01:49:19</td>\n",
              "      <td>2009-01-07</td>\n",
              "      <td>NaN</td>\n",
              "      <td>0</td>\n",
              "      <td>58</td>\n",
              "      <td>&lt;p&gt;A couple of unreleased mp3s from the fellas...</td>\n",
              "      <td>3331</td>\n",
              "      <td>NaN</td>\n",
              "      <td>[]</td>\n",
              "      <td>mp3</td>\n",
              "      <td>4</td>\n",
              "      <td>Single Tracks</td>\n",
              "    </tr>\n",
              "    <tr>\n",
              "      <th>155</th>\n",
              "      <td>0</td>\n",
              "      <td>2008-11-26 01:51:00</td>\n",
              "      <td>2009-01-06</td>\n",
              "      <td>NaN</td>\n",
              "      <td>0</td>\n",
              "      <td>70</td>\n",
              "      <td>&lt;p&gt;Unreleased, unmastered but still very loud ...</td>\n",
              "      <td>197</td>\n",
              "      <td>NaN</td>\n",
              "      <td>[]</td>\n",
              "      <td>unreleased demo</td>\n",
              "      <td>1</td>\n",
              "      <td>Single Tracks</td>\n",
              "    </tr>\n",
              "    <tr>\n",
              "      <th>169</th>\n",
              "      <td>0</td>\n",
              "      <td>2008-11-26 01:51:48</td>\n",
              "      <td>2008-06-23</td>\n",
              "      <td>NaN</td>\n",
              "      <td>0</td>\n",
              "      <td>72</td>\n",
              "      <td>&lt;p&gt;&lt;em&gt;from James' &lt;a href=\"http://www.belowpd...</td>\n",
              "      <td>716</td>\n",
              "      <td>NaN</td>\n",
              "      <td>[]</td>\n",
              "      <td>Boss of Goth</td>\n",
              "      <td>4</td>\n",
              "      <td>Single Tracks</td>\n",
              "    </tr>\n",
              "    <tr>\n",
              "      <th>170</th>\n",
              "      <td>0</td>\n",
              "      <td>2008-11-26 01:51:50</td>\n",
              "      <td>2007-01-01</td>\n",
              "      <td>NaN</td>\n",
              "      <td>0</td>\n",
              "      <td>73</td>\n",
              "      <td>&lt;p&gt;Recorded mostly on October 7 of 2006.&lt;/p&gt;</td>\n",
              "      <td>193</td>\n",
              "      <td>NaN</td>\n",
              "      <td>[]</td>\n",
              "      <td>Nightmarcher</td>\n",
              "      <td>2</td>\n",
              "      <td>Single Tracks</td>\n",
              "    </tr>\n",
              "    <tr>\n",
              "      <th>...</th>\n",
              "      <td>...</td>\n",
              "      <td>...</td>\n",
              "      <td>...</td>\n",
              "      <td>...</td>\n",
              "      <td>...</td>\n",
              "      <td>...</td>\n",
              "      <td>...</td>\n",
              "      <td>...</td>\n",
              "      <td>...</td>\n",
              "      <td>...</td>\n",
              "      <td>...</td>\n",
              "      <td>...</td>\n",
              "      <td>...</td>\n",
              "    </tr>\n",
              "    <tr>\n",
              "      <th>154919</th>\n",
              "      <td>0</td>\n",
              "      <td>2017-03-20 09:22:30</td>\n",
              "      <td>2017-03-20</td>\n",
              "      <td>NaN</td>\n",
              "      <td>0</td>\n",
              "      <td>22867</td>\n",
              "      <td>NaN</td>\n",
              "      <td>2195</td>\n",
              "      <td>Fleslit</td>\n",
              "      <td>[young, yung, young lord, yung lord, lord, asa...</td>\n",
              "      <td>London</td>\n",
              "      <td>0</td>\n",
              "      <td>Single Tracks</td>\n",
              "    </tr>\n",
              "    <tr>\n",
              "      <th>154998</th>\n",
              "      <td>0</td>\n",
              "      <td>2017-02-06 11:50:21</td>\n",
              "      <td>2017-02-06</td>\n",
              "      <td>NaN</td>\n",
              "      <td>0</td>\n",
              "      <td>22501</td>\n",
              "      <td>NaN</td>\n",
              "      <td>2191</td>\n",
              "      <td>NaN</td>\n",
              "      <td>[]</td>\n",
              "      <td>\"Promise of Time\" Upbeat Themes</td>\n",
              "      <td>8</td>\n",
              "      <td>Single Tracks</td>\n",
              "    </tr>\n",
              "    <tr>\n",
              "      <th>155119</th>\n",
              "      <td>0</td>\n",
              "      <td>2016-12-24 14:09:43</td>\n",
              "      <td>NaT</td>\n",
              "      <td>NaN</td>\n",
              "      <td>0</td>\n",
              "      <td>22111</td>\n",
              "      <td>NaN</td>\n",
              "      <td>4966</td>\n",
              "      <td>Jay Bachelor</td>\n",
              "      <td>[orchestral]</td>\n",
              "      <td>\"All or Nothing\" Action Orchestra</td>\n",
              "      <td>16</td>\n",
              "      <td>Single Tracks</td>\n",
              "    </tr>\n",
              "    <tr>\n",
              "      <th>155246</th>\n",
              "      <td>1</td>\n",
              "      <td>2016-06-20 13:14:42</td>\n",
              "      <td>NaT</td>\n",
              "      <td>NaN</td>\n",
              "      <td>0</td>\n",
              "      <td>20928</td>\n",
              "      <td>NaN</td>\n",
              "      <td>27073</td>\n",
              "      <td>NaN</td>\n",
              "      <td>[]</td>\n",
              "      <td>\"Midnight Caravan\" ~ World Music</td>\n",
              "      <td>12</td>\n",
              "      <td>Single Tracks</td>\n",
              "    </tr>\n",
              "    <tr>\n",
              "      <th>155247</th>\n",
              "      <td>0</td>\n",
              "      <td>2017-03-29 09:41:20</td>\n",
              "      <td>2017-03-29</td>\n",
              "      <td>NaN</td>\n",
              "      <td>0</td>\n",
              "      <td>22923</td>\n",
              "      <td>NaN</td>\n",
              "      <td>1025</td>\n",
              "      <td>Fleslit</td>\n",
              "      <td>[instrumental trap beat, love, instrumental tr...</td>\n",
              "      <td>Love In The Sky</td>\n",
              "      <td>0</td>\n",
              "      <td>Single Tracks</td>\n",
              "    </tr>\n",
              "  </tbody>\n",
              "</table>\n",
              "<p>917 rows × 13 columns</p>\n",
              "</div>\n",
              "      <button class=\"colab-df-convert\" onclick=\"convertToInteractive('df-788b788d-0005-481c-a797-6cc1b26f72a7')\"\n",
              "              title=\"Convert this dataframe to an interactive table.\"\n",
              "              style=\"display:none;\">\n",
              "        \n",
              "  <svg xmlns=\"http://www.w3.org/2000/svg\" height=\"24px\"viewBox=\"0 0 24 24\"\n",
              "       width=\"24px\">\n",
              "    <path d=\"M0 0h24v24H0V0z\" fill=\"none\"/>\n",
              "    <path d=\"M18.56 5.44l.94 2.06.94-2.06 2.06-.94-2.06-.94-.94-2.06-.94 2.06-2.06.94zm-11 1L8.5 8.5l.94-2.06 2.06-.94-2.06-.94L8.5 2.5l-.94 2.06-2.06.94zm10 10l.94 2.06.94-2.06 2.06-.94-2.06-.94-.94-2.06-.94 2.06-2.06.94z\"/><path d=\"M17.41 7.96l-1.37-1.37c-.4-.4-.92-.59-1.43-.59-.52 0-1.04.2-1.43.59L10.3 9.45l-7.72 7.72c-.78.78-.78 2.05 0 2.83L4 21.41c.39.39.9.59 1.41.59.51 0 1.02-.2 1.41-.59l7.78-7.78 2.81-2.81c.8-.78.8-2.07 0-2.86zM5.41 20L4 18.59l7.72-7.72 1.47 1.35L5.41 20z\"/>\n",
              "  </svg>\n",
              "      </button>\n",
              "      \n",
              "  <style>\n",
              "    .colab-df-container {\n",
              "      display:flex;\n",
              "      flex-wrap:wrap;\n",
              "      gap: 12px;\n",
              "    }\n",
              "\n",
              "    .colab-df-convert {\n",
              "      background-color: #E8F0FE;\n",
              "      border: none;\n",
              "      border-radius: 50%;\n",
              "      cursor: pointer;\n",
              "      display: none;\n",
              "      fill: #1967D2;\n",
              "      height: 32px;\n",
              "      padding: 0 0 0 0;\n",
              "      width: 32px;\n",
              "    }\n",
              "\n",
              "    .colab-df-convert:hover {\n",
              "      background-color: #E2EBFA;\n",
              "      box-shadow: 0px 1px 2px rgba(60, 64, 67, 0.3), 0px 1px 3px 1px rgba(60, 64, 67, 0.15);\n",
              "      fill: #174EA6;\n",
              "    }\n",
              "\n",
              "    [theme=dark] .colab-df-convert {\n",
              "      background-color: #3B4455;\n",
              "      fill: #D2E3FC;\n",
              "    }\n",
              "\n",
              "    [theme=dark] .colab-df-convert:hover {\n",
              "      background-color: #434B5C;\n",
              "      box-shadow: 0px 1px 3px 1px rgba(0, 0, 0, 0.15);\n",
              "      filter: drop-shadow(0px 1px 2px rgba(0, 0, 0, 0.3));\n",
              "      fill: #FFFFFF;\n",
              "    }\n",
              "  </style>\n",
              "\n",
              "      <script>\n",
              "        const buttonEl =\n",
              "          document.querySelector('#df-788b788d-0005-481c-a797-6cc1b26f72a7 button.colab-df-convert');\n",
              "        buttonEl.style.display =\n",
              "          google.colab.kernel.accessAllowed ? 'block' : 'none';\n",
              "\n",
              "        async function convertToInteractive(key) {\n",
              "          const element = document.querySelector('#df-788b788d-0005-481c-a797-6cc1b26f72a7');\n",
              "          const dataTable =\n",
              "            await google.colab.kernel.invokeFunction('convertToInteractive',\n",
              "                                                     [key], {});\n",
              "          if (!dataTable) return;\n",
              "\n",
              "          const docLinkHtml = 'Like what you see? Visit the ' +\n",
              "            '<a target=\"_blank\" href=https://colab.research.google.com/notebooks/data_table.ipynb>data table notebook</a>'\n",
              "            + ' to learn more about interactive tables.';\n",
              "          element.innerHTML = '';\n",
              "          dataTable['output_type'] = 'display_data';\n",
              "          await google.colab.output.renderOutput(dataTable, element);\n",
              "          const docLink = document.createElement('div');\n",
              "          docLink.innerHTML = docLinkHtml;\n",
              "          element.appendChild(docLink);\n",
              "        }\n",
              "      </script>\n",
              "    </div>\n",
              "  </div>\n",
              "  "
            ]
          },
          "metadata": {},
          "execution_count": 104
        }
      ]
    },
    {
      "cell_type": "code",
      "source": [
        "len(album_df.query('type == \"Single Tracks\"'))"
      ],
      "metadata": {
        "id": "y98osxiPT488"
      },
      "execution_count": null,
      "outputs": []
    },
    {
      "cell_type": "markdown",
      "source": [
        "### How were the IDs recorded? At record time? Based on genre? Random?"
      ],
      "metadata": {
        "id": "iap7dOwtZXrE"
      }
    },
    {
      "cell_type": "code",
      "source": [],
      "metadata": {
        "id": "e7zus_kBZmYH"
      },
      "execution_count": null,
      "outputs": []
    },
    {
      "cell_type": "markdown",
      "source": [
        "# Data Preparation"
      ],
      "metadata": {
        "id": "sHlivS9AkcI1"
      }
    },
    {
      "cell_type": "markdown",
      "source": [
        "\n",
        "\n",
        "\n",
        "1.   Initial Hypothesis: Track, Album, and Artist Data can predict the Genre of a track.\n",
        "\n",
        "\n",
        "\n"
      ],
      "metadata": {
        "id": "FHWo6IyBKG2L"
      }
    },
    {
      "cell_type": "markdown",
      "source": [
        "\n",
        "**Notes**\n",
        "* Does the track id relate to when it was recorded or to the type of song?\n",
        "*   (album, comments) column might be numerical sentiment values already, could be useful\n",
        "*   (album, date_released) is redundant, remove\n",
        "* (album, engineer) has too many missing data\n",
        "* (album, id) are the albums, but one album id may represent a song with no album (single)\n",
        "* (album, listens) is redundant for genre classification\n",
        "* (album, producer) has too many missing data\n",
        "* (album, information) has a lot of NaNs, might give too much information so remove it or create a word embedding\n",
        "* (album, producer) has too little data\n",
        "* (album, tags) has too many missing data, might give off too much information so remove it for now\n",
        "* (album, tracks) is the number of tracks in an album\n",
        "* most of the artist columns have too little data\n",
        "* (artist, tags) can be mixed with album tags\n",
        "* It seems like it might be helpful to use word embeddings for information, tag, title, website,\n",
        "\n"
      ],
      "metadata": {
        "id": "yJGMkJXGKk_w"
      }
    },
    {
      "cell_type": "code",
      "source": [
        "def convert_multi(input_df: pd.DataFrame) -> pd.DataFrame:\n",
        "  \"\"\"\n",
        "    Convert DataFrame from MultiIndex to Index\n",
        "\n",
        "    Parameters\n",
        "    -----------\n",
        "    input_df: DataFrame\n",
        "\n",
        "    Returns\n",
        "    ________\n",
        "    df: DataFrame\n",
        "  \"\"\"\n",
        "  df = input_df.copy()\n",
        "\n",
        "  if isinstance(df.columns, pd.MultiIndex):\n",
        "    df.columns = df.columns.map('_'.join)\n",
        "    return df\n",
        "  else:\n",
        "    print(\"not  MultiIndex\")\n",
        "    return df"
      ],
      "metadata": {
        "id": "RCuSB4ZHrG_Y"
      },
      "execution_count": null,
      "outputs": []
    },
    {
      "cell_type": "code",
      "source": [
        "def remove_low(input_df: pd.DataFrame, percent=None) -> pd.DataFrame:\n",
        "\n",
        "  \"\"\"\n",
        "  \n",
        "  Removes the columns with a high amount of missing data\n",
        "\n",
        "  Parameters\n",
        "  ----------\n",
        "  input_df: pd.DataFrame\n",
        "\n",
        "\n",
        "  Returns\n",
        "  ________\n",
        "  df: pd.DataFrame\n",
        "\n",
        "  \"\"\"\n",
        "\n",
        "  total = len(input_df)\n",
        "  if percent == None:\n",
        "    min_count = total / 10\n",
        "  elif type(percent) == int:\n",
        "    min_count = (total / 100) * percent\n",
        "  \n",
        "  df = input_df.copy()\n",
        "\n",
        "  drop_list = []\n",
        "  for col in df.columns:\n",
        "    if df[col].count() <= min_count:\n",
        "      drop_list.append(col)\n",
        "  \n",
        "  df = df.drop(drop_list, axis=1)\n",
        "\n",
        "  return df"
      ],
      "metadata": {
        "id": "WfUV-KwN6X7T"
      },
      "execution_count": null,
      "outputs": []
    },
    {
      "cell_type": "code",
      "source": [
        "def remove_cols(input_df: pd.DataFrame, input_list=None) -> pd.DataFrame:\n",
        "  if input_list == None:\n",
        "    remove_list = ['album_data_released',\n",
        "                 'album_engineer',\n",
        "                 'album_id',\n",
        "                 'album_producer',\n",
        "                 'artist_active_year_begin',\n",
        "                 'artist_active_year_end',\n",
        "                 'artist_associated_labels',\n",
        "                 'artist_date_created',\n",
        "                 'artist_id',\n",
        "                 'artist_latitude',\n",
        "                 'artist_longitude',\n",
        "                 'artist_members',\n",
        "                 'artist_related_projects',\n",
        "                 'artist_wikipedia_page',\n",
        "                 'set_split',\n",
        "                 'set_subset',\n",
        "                 'track_composer',\n",
        "                 'track_date_recorded',\n",
        "                 'track_information',\n",
        "                 'track_language_code',\n",
        "                 ''\n",
        "                 ]\n"
      ],
      "metadata": {
        "id": "X4ZSWxjwujsr"
      },
      "execution_count": null,
      "outputs": []
    },
    {
      "cell_type": "code",
      "source": [
        "df = df.pipe(convert_multi)\\\n",
        "  .pipe(remove_low, percent=15)"
      ],
      "metadata": {
        "id": "BoRdQKF-947x"
      },
      "execution_count": null,
      "outputs": []
    },
    {
      "cell_type": "markdown",
      "source": [
        "* Convert to embeddings and encoding\n",
        "* feature scaling\n",
        "* Fix the y value for multi class classification\n",
        "* Transform into a local package (virtualenv, git)\n",
        "* Filtering via Feature Importance (better if after initial dataset)\n",
        "* Training with papermill and mlflow\n",
        "* Dockerize for practice\n",
        "* Create interface (Gradio) for deployment\n",
        "* Stretch Task: Computer Vision Genre Classification using MFCC spectrograms and genre labels\n",
        "* Stretch Task: Do everything on the cloud"
      ],
      "metadata": {
        "id": "IFWt_059dmMI"
      }
    },
    {
      "cell_type": "code",
      "source": [
        "df.info()"
      ],
      "metadata": {
        "colab": {
          "base_uri": "https://localhost:8080/"
        },
        "id": "uAZDBKkv_bax",
        "outputId": "cdc0d94d-8adb-4484-fda1-5e1d21e1ddd4"
      },
      "execution_count": null,
      "outputs": [
        {
          "output_type": "stream",
          "name": "stdout",
          "text": [
            "<class 'pandas.core.frame.DataFrame'>\n",
            "Int64Index: 106574 entries, 2 to 155320\n",
            "Data columns (total 41 columns):\n",
            " #   Column                    Non-Null Count   Dtype         \n",
            "---  ------                    --------------   -----         \n",
            " 0   album_comments            106574 non-null  int64         \n",
            " 1   album_date_created        103045 non-null  datetime64[ns]\n",
            " 2   album_date_released       70294 non-null   datetime64[ns]\n",
            " 3   album_favorites           106574 non-null  int64         \n",
            " 4   album_id                  106574 non-null  int64         \n",
            " 5   album_information         83149 non-null   category      \n",
            " 6   album_listens             106574 non-null  int64         \n",
            " 7   album_producer            18060 non-null   object        \n",
            " 8   album_tags                106574 non-null  object        \n",
            " 9   album_title               105549 non-null  object        \n",
            " 10  album_tracks              106574 non-null  int64         \n",
            " 11  album_type                100066 non-null  category      \n",
            " 12  artist_active_year_begin  22711 non-null   datetime64[ns]\n",
            " 13  artist_bio                71156 non-null   category      \n",
            " 14  artist_comments           106574 non-null  int64         \n",
            " 15  artist_date_created       105718 non-null  datetime64[ns]\n",
            " 16  artist_favorites          106574 non-null  int64         \n",
            " 17  artist_id                 106574 non-null  int64         \n",
            " 18  artist_latitude           44544 non-null   float64       \n",
            " 19  artist_location           70210 non-null   object        \n",
            " 20  artist_longitude          44544 non-null   float64       \n",
            " 21  artist_members            46849 non-null   object        \n",
            " 22  artist_name               106574 non-null  object        \n",
            " 23  artist_tags               106574 non-null  object        \n",
            " 24  artist_website            79256 non-null   object        \n",
            " 25  set_split                 106574 non-null  object        \n",
            " 26  set_subset                106574 non-null  category      \n",
            " 27  track_bit_rate            106574 non-null  int64         \n",
            " 28  track_comments            106574 non-null  int64         \n",
            " 29  track_date_created        106574 non-null  datetime64[ns]\n",
            " 30  track_duration            106574 non-null  int64         \n",
            " 31  track_favorites           106574 non-null  int64         \n",
            " 32  track_genre_top           49598 non-null   category      \n",
            " 33  track_genres              106574 non-null  object        \n",
            " 34  track_genres_all          106574 non-null  object        \n",
            " 35  track_interest            106574 non-null  int64         \n",
            " 36  track_license             106487 non-null  category      \n",
            " 37  track_listens             106574 non-null  int64         \n",
            " 38  track_number              106574 non-null  int64         \n",
            " 39  track_tags                106574 non-null  object        \n",
            " 40  track_title               106573 non-null  object        \n",
            "dtypes: category(6), datetime64[ns](5), float64(2), int64(15), object(13)\n",
            "memory usage: 30.6+ MB\n"
          ]
        }
      ]
    },
    {
      "cell_type": "code",
      "source": [
        "df['track_license'].sample(20)"
      ],
      "metadata": {
        "id": "6QjE_wVRzlgd"
      },
      "execution_count": null,
      "outputs": []
    }
  ]
}